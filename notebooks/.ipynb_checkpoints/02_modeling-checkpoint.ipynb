{
 "cells": [
  {
   "cell_type": "code",
   "execution_count": 243,
   "id": "d33a20c6-ecfc-478c-bde1-20ab3fc12114",
   "metadata": {},
   "outputs": [],
   "source": [
    "import pandas as pd\n",
    "import numpy as np\n",
    "from sklearn.model_selection import train_test_split\n",
    "from sklearn.preprocessing import StandardScaler\n",
    "import sklearn.metrics"
   ]
  },
  {
   "cell_type": "code",
   "execution_count": 244,
   "id": "3d89c519-e8fa-48ed-951e-51ee9e24d29f",
   "metadata": {},
   "outputs": [
    {
     "name": "stdout",
     "output_type": "stream",
     "text": [
      "✅ Data loaded. Shape: (452, 279)\n"
     ]
    },
    {
     "data": {
      "text/html": [
       "<div>\n",
       "<style scoped>\n",
       "    .dataframe tbody tr th:only-of-type {\n",
       "        vertical-align: middle;\n",
       "    }\n",
       "\n",
       "    .dataframe tbody tr th {\n",
       "        vertical-align: top;\n",
       "    }\n",
       "\n",
       "    .dataframe thead th {\n",
       "        text-align: right;\n",
       "    }\n",
       "</style>\n",
       "<table border=\"1\" class=\"dataframe\">\n",
       "  <thead>\n",
       "    <tr style=\"text-align: right;\">\n",
       "      <th></th>\n",
       "      <th>Age</th>\n",
       "      <th>Sex</th>\n",
       "      <th>Height</th>\n",
       "      <th>Weight</th>\n",
       "      <th>QRS_Dur</th>\n",
       "      <th>P-R_Int</th>\n",
       "      <th>Q-T_Int</th>\n",
       "      <th>T_Int</th>\n",
       "      <th>P_Int</th>\n",
       "      <th>QRS</th>\n",
       "      <th>...</th>\n",
       "      <th>V6271</th>\n",
       "      <th>V6272</th>\n",
       "      <th>V6273</th>\n",
       "      <th>V6274</th>\n",
       "      <th>V6275</th>\n",
       "      <th>V6276</th>\n",
       "      <th>V6277</th>\n",
       "      <th>V6278</th>\n",
       "      <th>V6279</th>\n",
       "      <th>class</th>\n",
       "    </tr>\n",
       "  </thead>\n",
       "  <tbody>\n",
       "    <tr>\n",
       "      <th>0</th>\n",
       "      <td>75.0</td>\n",
       "      <td>0.0</td>\n",
       "      <td>190.0</td>\n",
       "      <td>80.0</td>\n",
       "      <td>91.0</td>\n",
       "      <td>193.0</td>\n",
       "      <td>371.0</td>\n",
       "      <td>174.0</td>\n",
       "      <td>121.0</td>\n",
       "      <td>-16.0</td>\n",
       "      <td>...</td>\n",
       "      <td>0.0</td>\n",
       "      <td>9.0</td>\n",
       "      <td>-0.9</td>\n",
       "      <td>0.0</td>\n",
       "      <td>0.0</td>\n",
       "      <td>0.9</td>\n",
       "      <td>2.9</td>\n",
       "      <td>23.3</td>\n",
       "      <td>49.4</td>\n",
       "      <td>8.0</td>\n",
       "    </tr>\n",
       "    <tr>\n",
       "      <th>1</th>\n",
       "      <td>56.0</td>\n",
       "      <td>1.0</td>\n",
       "      <td>165.0</td>\n",
       "      <td>64.0</td>\n",
       "      <td>81.0</td>\n",
       "      <td>174.0</td>\n",
       "      <td>401.0</td>\n",
       "      <td>149.0</td>\n",
       "      <td>39.0</td>\n",
       "      <td>25.0</td>\n",
       "      <td>...</td>\n",
       "      <td>0.0</td>\n",
       "      <td>8.5</td>\n",
       "      <td>0.0</td>\n",
       "      <td>0.0</td>\n",
       "      <td>0.0</td>\n",
       "      <td>0.2</td>\n",
       "      <td>2.1</td>\n",
       "      <td>20.4</td>\n",
       "      <td>38.8</td>\n",
       "      <td>6.0</td>\n",
       "    </tr>\n",
       "    <tr>\n",
       "      <th>2</th>\n",
       "      <td>54.0</td>\n",
       "      <td>0.0</td>\n",
       "      <td>172.0</td>\n",
       "      <td>95.0</td>\n",
       "      <td>138.0</td>\n",
       "      <td>163.0</td>\n",
       "      <td>386.0</td>\n",
       "      <td>185.0</td>\n",
       "      <td>102.0</td>\n",
       "      <td>96.0</td>\n",
       "      <td>...</td>\n",
       "      <td>0.0</td>\n",
       "      <td>9.5</td>\n",
       "      <td>-2.4</td>\n",
       "      <td>0.0</td>\n",
       "      <td>0.0</td>\n",
       "      <td>0.3</td>\n",
       "      <td>3.4</td>\n",
       "      <td>12.3</td>\n",
       "      <td>49.0</td>\n",
       "      <td>10.0</td>\n",
       "    </tr>\n",
       "    <tr>\n",
       "      <th>3</th>\n",
       "      <td>55.0</td>\n",
       "      <td>0.0</td>\n",
       "      <td>175.0</td>\n",
       "      <td>94.0</td>\n",
       "      <td>100.0</td>\n",
       "      <td>202.0</td>\n",
       "      <td>380.0</td>\n",
       "      <td>179.0</td>\n",
       "      <td>143.0</td>\n",
       "      <td>28.0</td>\n",
       "      <td>...</td>\n",
       "      <td>0.0</td>\n",
       "      <td>12.2</td>\n",
       "      <td>-2.2</td>\n",
       "      <td>0.0</td>\n",
       "      <td>0.0</td>\n",
       "      <td>0.4</td>\n",
       "      <td>2.6</td>\n",
       "      <td>34.6</td>\n",
       "      <td>61.6</td>\n",
       "      <td>1.0</td>\n",
       "    </tr>\n",
       "    <tr>\n",
       "      <th>4</th>\n",
       "      <td>75.0</td>\n",
       "      <td>0.0</td>\n",
       "      <td>190.0</td>\n",
       "      <td>80.0</td>\n",
       "      <td>88.0</td>\n",
       "      <td>181.0</td>\n",
       "      <td>360.0</td>\n",
       "      <td>177.0</td>\n",
       "      <td>103.0</td>\n",
       "      <td>-16.0</td>\n",
       "      <td>...</td>\n",
       "      <td>0.0</td>\n",
       "      <td>13.1</td>\n",
       "      <td>-3.6</td>\n",
       "      <td>0.0</td>\n",
       "      <td>0.0</td>\n",
       "      <td>-0.1</td>\n",
       "      <td>3.9</td>\n",
       "      <td>25.4</td>\n",
       "      <td>62.8</td>\n",
       "      <td>7.0</td>\n",
       "    </tr>\n",
       "  </tbody>\n",
       "</table>\n",
       "<p>5 rows × 279 columns</p>\n",
       "</div>"
      ],
      "text/plain": [
       "    Age  Sex  Height  Weight  QRS_Dur  P-R_Int  Q-T_Int  T_Int  P_Int   QRS  \\\n",
       "0  75.0  0.0   190.0    80.0     91.0    193.0    371.0  174.0  121.0 -16.0   \n",
       "1  56.0  1.0   165.0    64.0     81.0    174.0    401.0  149.0   39.0  25.0   \n",
       "2  54.0  0.0   172.0    95.0    138.0    163.0    386.0  185.0  102.0  96.0   \n",
       "3  55.0  0.0   175.0    94.0    100.0    202.0    380.0  179.0  143.0  28.0   \n",
       "4  75.0  0.0   190.0    80.0     88.0    181.0    360.0  177.0  103.0 -16.0   \n",
       "\n",
       "   ...  V6271  V6272  V6273  V6274  V6275  V6276  V6277  V6278  V6279  class  \n",
       "0  ...    0.0    9.0   -0.9    0.0    0.0    0.9    2.9   23.3   49.4    8.0  \n",
       "1  ...    0.0    8.5    0.0    0.0    0.0    0.2    2.1   20.4   38.8    6.0  \n",
       "2  ...    0.0    9.5   -2.4    0.0    0.0    0.3    3.4   12.3   49.0   10.0  \n",
       "3  ...    0.0   12.2   -2.2    0.0    0.0    0.4    2.6   34.6   61.6    1.0  \n",
       "4  ...    0.0   13.1   -3.6    0.0    0.0   -0.1    3.9   25.4   62.8    7.0  \n",
       "\n",
       "[5 rows x 279 columns]"
      ]
     },
     "execution_count": 244,
     "metadata": {},
     "output_type": "execute_result"
    }
   ],
   "source": [
    "# Load cleaned data saved from EDA notebook\n",
    "df = pd.read_csv(\"../data/processed_arrhythmia.csv\")\n",
    "print(\"✅ Data loaded. Shape:\", df.shape)\n",
    "df.head()\n"
   ]
  },
  {
   "cell_type": "code",
   "execution_count": 245,
   "id": "60bc48bf-3024-4311-a19a-a9008a128c09",
   "metadata": {},
   "outputs": [],
   "source": [
    "# If your target column is called \"class\"\n",
    "X = df.drop(columns=[\"class\"])\n",
    "y = df[\"class\"]\n"
   ]
  },
  {
   "cell_type": "code",
   "execution_count": null,
   "id": "1932b963-724c-4ec4-bd67-bb73f6728e7b",
   "metadata": {},
   "outputs": [],
   "source": []
  },
  {
   "cell_type": "markdown",
   "id": "791bc8b0-d8e1-44f0-a0ae-46a301e43a20",
   "metadata": {
    "colab": {
     "base_uri": "https://localhost:8080/"
    },
    "id": "t0SFO1AU_dvz",
    "outputId": "7f60452a-7103-4495-c24c-4350396f28b4"
   },
   "source": [
    "## Feature Scaling and Splitting dataset\n",
    "<br />\n",
    "We will be using 80% of our dataset for training purpose and 20% for testing purpose."
   ]
  },
  {
   "cell_type": "code",
   "execution_count": 246,
   "id": "7e8ae001-bfdd-4183-b211-312b399486cb",
   "metadata": {},
   "outputs": [],
   "source": [
    "from sklearn.model_selection import train_test_split\n",
    "X_train, X_test, y_train, y_test = train_test_split(X, y, test_size=0.2, random_state=1)"
   ]
  },
  {
   "cell_type": "code",
   "execution_count": 247,
   "id": "a6e709b0-c8ee-4412-a596-3894d1bb4c28",
   "metadata": {},
   "outputs": [],
   "source": [
    "from sklearn.preprocessing import StandardScaler\n",
    "scaler = StandardScaler()\n",
    "\n",
    "scaler.fit(X_train)\n",
    "X_train = scaler.transform(X_train)\n",
    "X_test = scaler.transform(X_test)"
   ]
  },
  {
   "cell_type": "code",
   "execution_count": 248,
   "id": "65078d72-ab97-4594-9ec5-1007395ba85b",
   "metadata": {},
   "outputs": [],
   "source": [
    "import warnings\n",
    "warnings.filterwarnings('ignore')"
   ]
  },
  {
   "cell_type": "markdown",
   "id": "598186aa-6101-490c-a8ec-245d049c51e3",
   "metadata": {},
   "source": [
    "## Evaluation strategy\n",
    "\n",
    "\n",
    "As the dependent variable is a categorical variable we will be using classification models. The best evaluation strategy for classification models is comparing the precision and recall. Thinking about the classification evaluation metrics, the importance of our models' precitions (we can't accept a result having the probability of saying to a healthy person that you have Cardiac Arrhythmia (FN)).\n",
    "\n",
    "We definitely will focus on Sensitivity (the percentage of sick people who are correctly identified as having the condition) not Specificity (percentage of healthy people who are correctly identified as not having the condition)."
   ]
  },
  {
   "cell_type": "code",
   "execution_count": null,
   "id": "ce4010cb-7a02-4425-944a-ed36ed6ad36b",
   "metadata": {},
   "outputs": [],
   "source": []
  },
  {
   "cell_type": "markdown",
   "id": "4b01e9fa-2cab-439f-b09c-c99ee952c2f8",
   "metadata": {},
   "source": [
    "# **3. Modeling**"
   ]
  },
  {
   "cell_type": "code",
   "execution_count": 249,
   "id": "3a2bb9f2-eb9d-447c-8988-732267c3c03a",
   "metadata": {},
   "outputs": [],
   "source": [
    "# will store result of each model.\n",
    "\n",
    "result = pd.DataFrame(columns=['Model','Train Accuracy','Test Accuracy'])"
   ]
  },
  {
   "cell_type": "markdown",
   "id": "1223c454-5d2a-467b-b0fb-69ab6c01223c",
   "metadata": {},
   "source": [
    "## KNN Classifier"
   ]
  },
  {
   "cell_type": "code",
   "execution_count": 250,
   "id": "4c74db11-16ac-43c3-ab15-c11eb8d61cde",
   "metadata": {},
   "outputs": [
    {
     "name": "stdout",
     "output_type": "stream",
     "text": [
      "Train Recall score: 0.6481994459833795\n",
      "Test Recall score: 0.6483516483516484\n",
      "Confusion Matrix Dimensions: (11, 11)\n",
      "Confusion Matrix:\n",
      "[[52  0  0  0  0  0  0  0  0  0  0]\n",
      " [ 7  1  0  0  0  0  0  0  0  0  0]\n",
      " [ 2  0  2  0  0  0  0  0  0  0  0]\n",
      " [ 0  0  0  1  0  0  0  0  0  0  0]\n",
      " [ 2  0  0  0  0  0  0  0  0  0  0]\n",
      " [ 3  0  0  0  0  0  0  0  0  0  0]\n",
      " [ 1  0  0  0  0  0  0  0  0  0  0]\n",
      " [ 0  0  0  0  0  0  0  1  0  0  1]\n",
      " [ 8  0  0  0  0  0  0  0  2  0  0]\n",
      " [ 2  0  0  0  0  0  0  0  0  0  0]\n",
      " [ 6  0  0  0  0  0  0  0  0  0  0]]\n",
      "Test Accuracy for KNN Classifier: 64.84%\n"
     ]
    }
   ],
   "source": [
    "from sklearn.neighbors import KNeighborsClassifier\n",
    "from sklearn.metrics import accuracy_score\n",
    "from sklearn.metrics import recall_score\n",
    "from sklearn.metrics import confusion_matrix\n",
    "knnclassifier = KNeighborsClassifier()\n",
    "knnclassifier.fit(X_train, y_train)\n",
    "y_pred = knnclassifier.predict(X_test)\n",
    "knn_train_accuracy = accuracy_score(y_train, knnclassifier.predict(X_train))\n",
    "knn_test_accuracy = accuracy_score(y_test, knnclassifier.predict(X_test))\n",
    "knn_train_recall = recall_score(y_train, knnclassifier.predict(X_train),average=\"weighted\")\n",
    "knn_test_recall = recall_score(y_test, knnclassifier.predict(X_test),average=\"weighted\")\n",
    "print('Train Recall score: {}'\n",
    "      .format(knn_train_recall))\n",
    "print('Test Recall score: {}'\n",
    "      .format(knn_test_recall))\n",
    "print('Confusion Matrix Dimensions:', cm.shape)\n",
    "print('Confusion Matrix:')\n",
    "print(confusion_matrix(y_test, y_pred))\n",
    "temp_result={'Model':'KNN Classifier','Train Accuracy':knn_train_accuracy,'Test Accuracy':knn_test_accuracy}\n",
    "\n",
    "result = pd.DataFrame(data=temp_result,index=[0])\n",
    "result['Test Accuracy']\n",
    "\n",
    "# Define the model name and test accuracy\n",
    "model_name = 'KNN Classifier'\n",
    "test_accuracy = result['Test Accuracy'].values[0]  # Extract the actual test accuracy value\n",
    "\n",
    "# Print the test accuracy neatly\n",
    "print(\"Test Accuracy for {}: {:.2f}%\".format(model_name, test_accuracy * 100))"
   ]
  },
  {
   "cell_type": "markdown",
   "id": "850aa026-915a-41ca-acb7-de454804b9c2",
   "metadata": {},
   "source": [
    "## Logistic regression"
   ]
  },
  {
   "cell_type": "code",
   "execution_count": 251,
   "id": "9197ce0c-7868-483a-98bf-c2fa5866c090",
   "metadata": {},
   "outputs": [
    {
     "name": "stdout",
     "output_type": "stream",
     "text": [
      "Train Recall score: 0.9390581717451524\n",
      "Test Recall score: 0.7802197802197802\n",
      "Confusion Matrix Dimensions: (11, 11)\n",
      "Confusion Matrix:\n",
      "[[46  2  0  0  0  2  0  0  0  0  2]\n",
      " [ 2  6  0  0  0  0  0  0  0  0  0]\n",
      " [ 0  0  4  0  0  0  0  0  0  0  0]\n",
      " [ 0  0  0  1  0  0  0  0  0  0  0]\n",
      " [ 1  0  0  0  1  0  0  0  0  0  0]\n",
      " [ 1  1  0  0  0  1  0  0  0  0  0]\n",
      " [ 1  0  0  0  0  0  0  0  0  0  0]\n",
      " [ 0  0  0  0  0  0  0  2  0  0  0]\n",
      " [ 1  1  0  0  0  0  0  0  8  0  0]\n",
      " [ 0  0  0  0  0  0  0  0  0  1  1]\n",
      " [ 3  1  1  0  0  0  0  0  0  0  1]]\n",
      "Test Accuracy for Logistic Regression: 78.02%\n"
     ]
    }
   ],
   "source": [
    "from sklearn.linear_model import LogisticRegression\n",
    "from sklearn.metrics import accuracy_score\n",
    "from sklearn.metrics import recall_score\n",
    "from sklearn.metrics import confusion_matrix\n",
    "lgclassifier = LogisticRegression(solver = 'saga',random_state = 0) \n",
    "lgclassifier.fit(X_train, y_train) \n",
    "y_pred = lgclassifier.predict(X_test)\n",
    "lg_train_recall = recall_score(y_train, lgclassifier.predict(X_train),average='weighted')\n",
    "lg_test_recall = recall_score(y_test, lgclassifier.predict(X_test),average='weighted')\n",
    "lg_train_accuracy = accuracy_score(y_train, lgclassifier.predict(X_train))\n",
    "lg_test_accuracy = accuracy_score(y_test, lgclassifier.predict(X_test))\n",
    "print('Train Recall score: {}'\n",
    "      .format(lg_train_recall))\n",
    "print('Test Recall score: {}'\n",
    "      .format(lg_test_recall))\n",
    "print('Confusion Matrix Dimensions:', cm.shape)\n",
    "print('Confusion Matrix:')\n",
    "print(confusion_matrix(y_test, y_pred))\n",
    "temp_result={'Model':'Logestic Regression','Train Accuracy':lg_train_accuracy,'Test Accuracy':lg_test_accuracy}\n",
    "\n",
    "result = pd.DataFrame(data=temp_result,index=[0])\n",
    "result['Test Accuracy']\n",
    "\n",
    "# Define the model name and test accuracy\n",
    "model_name = 'Logistic Regression'\n",
    "test_accuracy = result['Test Accuracy'].values[0]  # Extract the actual test accuracy value\n",
    "\n",
    "# Print the test accuracy neatly\n",
    "print(\"Test Accuracy for {}: {:.2f}%\".format(model_name, test_accuracy * 100))"
   ]
  },
  {
   "cell_type": "markdown",
   "id": "fd4b520b-d1e5-4b35-8cd6-11d23f130488",
   "metadata": {},
   "source": [
    "## Decision Tree Classifier"
   ]
  },
  {
   "cell_type": "code",
   "execution_count": 252,
   "id": "ed852c68-5407-4636-976e-cc804cc14666",
   "metadata": {},
   "outputs": [],
   "source": [
    "from sklearn.tree import DecisionTreeClassifier\n",
    "from sklearn.metrics import accuracy_score\n",
    "from sklearn.metrics import recall_score\n",
    "from sklearn.metrics import confusion_matrix\n",
    "dtclassifier = DecisionTreeClassifier(criterion = 'entropy', random_state = 0,max_depth=5)\n",
    "dtclassifier.fit(X_train, y_train) \n",
    "y_pred_test = dtclassifier.predict(X_test)\n",
    "y_pred_train = dtclassifier.predict(X_train)"
   ]
  },
  {
   "cell_type": "code",
   "execution_count": 253,
   "id": "a5e581fd-edeb-4037-810b-2895f28e4810",
   "metadata": {},
   "outputs": [],
   "source": [
    "dt_train_recall = recall_score(y_train,y_pred_train,average=\"weighted\" )\n",
    "dt_test_recall = recall_score(y_test, y_pred_test,average=\"weighted\")\n",
    "dt_train_accuracy = accuracy_score(y_train,y_pred_train )\n",
    "dt_test_accuracy = accuracy_score(y_test, y_pred_test)\n"
   ]
  },
  {
   "cell_type": "code",
   "execution_count": 254,
   "id": "34e098d9-756c-47c0-92e4-945eecf8286e",
   "metadata": {},
   "outputs": [],
   "source": [
    "from sklearn.tree import DecisionTreeClassifier\n",
    "from sklearn.metrics import accuracy_score\n",
    "from sklearn.metrics import recall_score\n",
    "from sklearn.metrics import confusion_matrix\n",
    "dtclassifier = DecisionTreeClassifier(criterion = 'entropy', random_state = 0,max_depth=5)\n",
    "dtclassifier.fit(X_train, y_train) \n",
    "y_pred_test = dtclassifier.predict(X_test)\n",
    "y_pred_train = dtclassifier.predict(X_train)\n",
    "dt_train_recall = recall_score(y_train,y_pred_train,average=\"weighted\" )\n",
    "dt_test_recall = recall_score(y_test, y_pred_test,average=\"weighted\")\n",
    "dt_train_accuracy = accuracy_score(y_train,y_pred_train )\n",
    "dt_test_accuracy = accuracy_score(y_test, y_pred_test)\n",
    "\n",
    "emp_result={'Model':'Decision Tree Classifier','Train Accuracy':dt_train_accuracy,'Test Accuracy':dt_test_accuracy}\n",
    "result = pd.DataFrame(data=temp_result,index=[0])\n",
    "result['Test Accuracy']\n",
    "\n",
    "# Define the model name and test accuracy\n",
    "model_name = 'Decision Tree Classifier'\n",
    "test_accuracy = result['Test Accuracy'].values[0]  # Extract the actual test accuracy value\n",
    "\n"
   ]
  },
  {
   "cell_type": "code",
   "execution_count": 255,
   "id": "5fae0c55-484c-4169-9207-115ce73434d3",
   "metadata": {},
   "outputs": [],
   "source": [
    "temp_result={'Model':'Decision Tree Classifier','Train Accuracy':dt_train_accuracy,'Test Accuracy':dt_test_accuracy}\n",
    "result = pd.DataFrame(data=temp_result,index=[0])\n",
    "result['Test Accuracy']\n",
    "\n",
    "# Define the model name and test accuracy\n",
    "model_name = 'Decision Tree Classifier'\n",
    "test_accuracy = result['Test Accuracy'].values[0]  # Extract the actual test accuracy value\n"
   ]
  },
  {
   "cell_type": "code",
   "execution_count": 256,
   "id": "c1ca0d66-6a0e-46ec-af1b-f185a00df40e",
   "metadata": {},
   "outputs": [
    {
     "name": "stdout",
     "output_type": "stream",
     "text": [
      "Train Recall score: 0.79\n",
      "Test Recall score: 0.68\n",
      "Confusion Matrix Dimensions: (11, 11)\n",
      "Confusion Matrix:\n",
      "[[46  2  0  0  0  2  0  0  0  0  2]\n",
      " [ 2  6  0  0  0  0  0  0  0  0  0]\n",
      " [ 0  0  4  0  0  0  0  0  0  0  0]\n",
      " [ 0  0  0  1  0  0  0  0  0  0  0]\n",
      " [ 1  0  0  0  1  0  0  0  0  0  0]\n",
      " [ 1  1  0  0  0  1  0  0  0  0  0]\n",
      " [ 1  0  0  0  0  0  0  0  0  0  0]\n",
      " [ 0  0  0  0  0  0  0  2  0  0  0]\n",
      " [ 1  1  0  0  0  0  0  0  8  0  0]\n",
      " [ 0  0  0  0  0  0  0  0  0  1  1]\n",
      " [ 3  1  1  0  0  0  0  0  0  0  1]]\n",
      "Test Accuracy for Decision Tree Classifier: 68.13%\n"
     ]
    }
   ],
   "source": [
    "print('Train Recall score: {:.2f}'.format(dt_train_recall))\n",
    "print('Test Recall score: {:.2f}'.format(dt_test_recall))\n",
    "\n",
    "# Confusion matrix\n",
    "cm = confusion_matrix(y_test, y_pred)\n",
    "print('Confusion Matrix Dimensions:', cm.shape)\n",
    "print('Confusion Matrix:')\n",
    "print(cm)\n",
    "\n",
    "temp_result = {'Model': 'Decision Tree Classifier',\n",
    "               'Train Accuracy': dt_train_accuracy,\n",
    "               'Test Accuracy': dt_test_accuracy}\n",
    "\n",
    "result = pd.DataFrame(data=temp_result, index=[0])\n",
    "print(\"Test Accuracy for Decision Tree Classifier: {:.2f}%\".format(test_accuracy * 100))\n",
    "\n"
   ]
  },
  {
   "cell_type": "markdown",
   "id": "0c2959cc-d6e0-472c-b365-3527b2813274",
   "metadata": {},
   "source": [
    "## Linear SVM"
   ]
  },
  {
   "cell_type": "code",
   "execution_count": 257,
   "id": "7eedbee6-4289-4ec0-ac2f-6c1434946637",
   "metadata": {},
   "outputs": [],
   "source": [
    "from sklearn.svm import LinearSVC \n",
    "from sklearn.metrics import accuracy_score\n",
    "from sklearn.metrics import recall_score\n",
    "from sklearn.metrics import confusion_matrix\n",
    "lsvclassifier = LinearSVC(C=0.01)\n",
    "lsvclassifier.fit(X_train, y_train) \n",
    "y_pred_test = lsvclassifier.predict(X_test)\n",
    "y_pred_train = lsvclassifier.predict(X_train)\n",
    "lsvc_train_accuracy = accuracy_score(y_train, y_pred_train)\n",
    "lsvc_test_accuracy = accuracy_score(y_test, y_pred_test)\n",
    "lsvc_train_recall = recall_score(y_train,y_pred_train,average=\"weighted\" )\n",
    "lsvc_test_recall = recall_score(y_test, y_pred_test,average=\"weighted\")\n",
    "\n",
    "temp_result={'Model':'Linear SVC','Train Accuracy':lsvc_train_accuracy,'Test Accuracy':lsvc_test_accuracy}\n",
    "result = pd.DataFrame(data=temp_result,index=[0])\n",
    "result['Test Accuracy']\n",
    "\n",
    "# Define the model name and test accuracy\n",
    "model_name = 'Linear SVC'\n",
    "test_accuracy = result['Test Accuracy'].values[0]  # Extract the actual test accuracy value\n",
    "\n"
   ]
  },
  {
   "cell_type": "code",
   "execution_count": 258,
   "id": "f7a3acc0-e0f3-41b3-862d-0892f0859ea0",
   "metadata": {},
   "outputs": [],
   "source": [
    "from sklearn.svm import LinearSVC \n",
    "from sklearn.metrics import accuracy_score\n",
    "from sklearn.metrics import recall_score\n",
    "from sklearn.metrics import confusion_matrix\n",
    "lsvclassifier = LinearSVC(C=0.01)\n",
    "lsvclassifier.fit(X_train, y_train) \n",
    "y_pred_test = lsvclassifier.predict(X_test)\n",
    "y_pred_train = lsvclassifier.predict(X_train)"
   ]
  },
  {
   "cell_type": "code",
   "execution_count": 259,
   "id": "3d7933cc-1599-4ec2-882e-6b5efd6da2fc",
   "metadata": {},
   "outputs": [],
   "source": [
    "lsvc_train_accuracy = accuracy_score(y_train, y_pred_train)\n",
    "lsvc_test_accuracy = accuracy_score(y_test, y_pred_test)\n",
    "lsvc_train_recall = recall_score(y_train,y_pred_train,average=\"weighted\" )\n",
    "lsvc_test_recall = recall_score(y_test, y_pred_test,average=\"weighted\")"
   ]
  },
  {
   "cell_type": "code",
   "execution_count": 260,
   "id": "c7c76133-b5d6-4835-99b0-3be23d851428",
   "metadata": {},
   "outputs": [],
   "source": [
    "temp_result={'Model':'Linear SVC','Train Accuracy':lsvc_train_accuracy,'Test Accuracy':lsvc_test_accuracy}\n",
    "result = pd.DataFrame(data=temp_result,index=[0])\n",
    "result['Test Accuracy']\n",
    "\n",
    "# Define the model name and test accuracy\n",
    "model_name = 'Linear SVC'\n",
    "test_accuracy = result['Test Accuracy'].values[0]  # Extract the actual test accuracy value\n"
   ]
  },
  {
   "cell_type": "code",
   "execution_count": 261,
   "id": "23b2303d-25a1-45da-8d09-7d2ad9d1d620",
   "metadata": {},
   "outputs": [
    {
     "name": "stdout",
     "output_type": "stream",
     "text": [
      "Train Recall score: 0.88\n",
      "Test Recall score: 0.78\n",
      "Confusion Matrix Dimensions: (11, 11)\n",
      "Confusion Matrix:\n",
      "[[46  2  0  0  0  2  0  0  0  0  2]\n",
      " [ 2  6  0  0  0  0  0  0  0  0  0]\n",
      " [ 0  0  4  0  0  0  0  0  0  0  0]\n",
      " [ 0  0  0  1  0  0  0  0  0  0  0]\n",
      " [ 1  0  0  0  1  0  0  0  0  0  0]\n",
      " [ 1  1  0  0  0  1  0  0  0  0  0]\n",
      " [ 1  0  0  0  0  0  0  0  0  0  0]\n",
      " [ 0  0  0  0  0  0  0  2  0  0  0]\n",
      " [ 1  1  0  0  0  0  0  0  8  0  0]\n",
      " [ 0  0  0  0  0  0  0  0  0  1  1]\n",
      " [ 3  1  1  0  0  0  0  0  0  0  1]]\n",
      "Test Accuracy for Linear SVM: 78.02%\n"
     ]
    }
   ],
   "source": [
    "print('Train Recall score: {:.2f}'.format(lsvc_train_recall))\n",
    "print('Test Recall score: {:.2f}'.format(lsvc_test_recall))\n",
    "lsvc_train_accuracy = accuracy_score(y_train, y_pred_train)\n",
    "lsvc_test_accuracy = accuracy_score(y_test, y_pred_test)\n",
    "lsvc_train_recall = recall_score(y_train,y_pred_train,average=\"weighted\" )\n",
    "lsvc_test_recall = recall_score(y_test, y_pred_test,average=\"weighted\")\n",
    "# Confusion matrix\n",
    "cm = confusion_matrix(y_test, y_pred)\n",
    "print('Confusion Matrix Dimensions:', cm.shape)\n",
    "print('Confusion Matrix:')\n",
    "print(cm)\n",
    "\n",
    "temp_result = {'Model': 'Linear SVC',\n",
    "               'Train Accuracy': lsvc_train_accuracy,\n",
    "               'Test Accuracy': lsvc_test_accuracy}\n",
    "\n",
    "result = pd.DataFrame(data=temp_result, index=[0])\n",
    "print(\"Test Accuracy for Linear SVM: {:.2f}%\".format(test_accuracy * 100))"
   ]
  },
  {
   "cell_type": "markdown",
   "id": "b2a29f7f-ec5c-460a-8aca-4ab3b88fe779",
   "metadata": {},
   "source": [
    "## Kernelized SVM"
   ]
  },
  {
   "cell_type": "code",
   "execution_count": 262,
   "id": "873ef462-ac6d-45bf-a15f-f188cf13da1f",
   "metadata": {},
   "outputs": [],
   "source": [
    "from sklearn import svm\n",
    "from sklearn.metrics import accuracy_score\n",
    "from sklearn.metrics import recall_score\n",
    "from sklearn.metrics import confusion_matrix\n",
    "KSVC_clf = svm.SVC(kernel='sigmoid',C=10,gamma=0.001)\n",
    "KSVC_clf.fit(X_train, y_train)\n",
    "y_pred_train = KSVC_clf.predict(X_train)\n",
    "y_pred_test = KSVC_clf.predict(X_test)\n",
    "ksvc_train_recall = recall_score(y_train,y_pred_train,average=\"weighted\" )\n",
    "ksvc_test_recall = recall_score(y_test, y_pred_test,average=\"weighted\")\n",
    "\n",
    "ksvc_train_accuracy = accuracy_score(y_train, y_pred_train)\n",
    "ksvc_test_accuracy = accuracy_score(y_test, y_pred_test)\n",
    "\n",
    "temp_result={'Model':'Kernelized SVC','Train Accuracy':ksvc_train_accuracy,'Test Accuracy':ksvc_test_accuracy}\n",
    "result = pd.DataFrame(data=temp_result,index=[0])\n",
    "result['Test Accuracy']\n",
    "\n",
    "# Define the model name and test accuracy\n",
    "model_name = 'Kernelized SVC'\n",
    "test_accuracy = result['Test Accuracy'].values[0]  # Extract the actual test accuracy value\n",
    "\n"
   ]
  },
  {
   "cell_type": "code",
   "execution_count": 263,
   "id": "937c57b0-099c-4e1f-830a-b2979651d99d",
   "metadata": {},
   "outputs": [],
   "source": [
    "\n",
    "KSVC_clf = svm.SVC(kernel='sigmoid',C=10,gamma=0.001)\n",
    "KSVC_clf.fit(X_train, y_train)\n",
    "y_pred_train = KSVC_clf.predict(X_train)\n",
    "y_pred_test = KSVC_clf.predict(X_test)"
   ]
  },
  {
   "cell_type": "code",
   "execution_count": 264,
   "id": "1d15e00c-ac19-492d-aad0-daaf66c97f59",
   "metadata": {},
   "outputs": [],
   "source": [
    "ksvc_train_recall = recall_score(y_train,y_pred_train,average=\"weighted\" )\n",
    "ksvc_test_recall = recall_score(y_test, y_pred_test,average=\"weighted\")\n",
    "\n",
    "ksvc_train_accuracy = accuracy_score(y_train, y_pred_train)\n",
    "ksvc_test_accuracy = accuracy_score(y_test, y_pred_test)"
   ]
  },
  {
   "cell_type": "code",
   "execution_count": 265,
   "id": "b6ee1a65-64c5-47ac-b34e-7f264e5e1ff7",
   "metadata": {},
   "outputs": [],
   "source": [
    "temp_result={'Model':'Kernelized SVC','Train Accuracy':ksvc_train_accuracy,'Test Accuracy':ksvc_test_accuracy}\n",
    "result = pd.DataFrame(data=temp_result,index=[0])\n",
    "result['Test Accuracy']\n",
    "\n",
    "# Define the model name and test accuracy\n",
    "model_name = 'Kernelized SVC'\n",
    "test_accuracy = result['Test Accuracy'].values[0]  # Extract the actual test accuracy value\n",
    "\n"
   ]
  },
  {
   "cell_type": "code",
   "execution_count": 266,
   "id": "66b933cf-7e04-44be-ad18-eb8a6080d9e1",
   "metadata": {},
   "outputs": [
    {
     "name": "stdout",
     "output_type": "stream",
     "text": [
      "Train Recall score: 0.85\n",
      "Test Recall score: 0.79\n",
      "Confusion Matrix Dimensions: (11, 11)\n",
      "Confusion Matrix:\n",
      "[[46  2  0  0  0  2  0  0  0  0  2]\n",
      " [ 2  6  0  0  0  0  0  0  0  0  0]\n",
      " [ 0  0  4  0  0  0  0  0  0  0  0]\n",
      " [ 0  0  0  1  0  0  0  0  0  0  0]\n",
      " [ 1  0  0  0  1  0  0  0  0  0  0]\n",
      " [ 1  1  0  0  0  1  0  0  0  0  0]\n",
      " [ 1  0  0  0  0  0  0  0  0  0  0]\n",
      " [ 0  0  0  0  0  0  0  2  0  0  0]\n",
      " [ 1  1  0  0  0  0  0  0  8  0  0]\n",
      " [ 0  0  0  0  0  0  0  0  0  1  1]\n",
      " [ 3  1  1  0  0  0  0  0  0  0  1]]\n",
      "Test Accuracy For Kernelized SVM: 79.12%\n"
     ]
    }
   ],
   "source": [
    "print('Train Recall score: {:.2f}'.format(ksvc_train_accuracy))\n",
    "print('Test Recall score: {:.2f}'.format(ksvc_test_recall))\n",
    "\n",
    "# Confusion matrix\n",
    "cm = confusion_matrix(y_test, y_pred)\n",
    "print('Confusion Matrix Dimensions:', cm.shape)\n",
    "print('Confusion Matrix:')\n",
    "print(cm)\n",
    "\n",
    "temp_result = {'Model': 'Kernelized SVC',\n",
    "               'Train Accuracy': ksvc_train_accuracy,\n",
    "               'Test Accuracy': ksvc_test_accuracy}\n",
    "\n",
    "result = pd.DataFrame(data=temp_result, index=[0])\n",
    "print(\"Test Accuracy For Kernelized SVM: {:.2f}%\".format(test_accuracy * 100))\n",
    "\n"
   ]
  },
  {
   "cell_type": "markdown",
   "id": "25c57f55-fce7-4075-affc-620679dd9f95",
   "metadata": {},
   "source": [
    "## Random Forest Classifier"
   ]
  },
  {
   "cell_type": "code",
   "execution_count": 267,
   "id": "21113450-7512-4cc2-9a5a-272ccdd79973",
   "metadata": {},
   "outputs": [],
   "source": [
    "from sklearn.ensemble import RandomForestClassifier\n",
    "from sklearn.metrics import accuracy_score\n",
    "from sklearn.metrics import recall_score\n",
    "from sklearn.metrics import confusion_matrix\n",
    "rf_clf = RandomForestClassifier(n_estimators=300, criterion='gini',max_features=100,max_depth=10,max_leaf_nodes=30)\n",
    "rf_clf.fit(X_train, y_train)\n",
    "y_pred_train = rf_clf.predict(X_train)\n",
    "y_pred_test = rf_clf.predict(X_test)\n",
    "\n",
    "rf_train_accuracy = accuracy_score(y_train, y_pred_train)\n",
    "rf_test_accuracy = accuracy_score(y_test, y_pred_test)\n",
    "rf_train_recall = recall_score(y_train,y_pred_train,average=\"weighted\" )\n",
    "rf_test_recall = recall_score(y_test, y_pred_test,average=\"weighted\")\n",
    "\n",
    "\n",
    "temp_result={'Model':'Random Forest Classifier','Train Accuracy':rf_train_accuracy,'Test Accuracy':rf_test_accuracy}\n",
    "result = pd.DataFrame(data=temp_result,index=[0])\n",
    "result['Test Accuracy']\n",
    "\n",
    "# Define the model name and test accuracy\n",
    "model_name = 'Random Forest Classifier'\n",
    "test_accuracy = result['Test Accuracy'].values[0]  # Extract the actual test accuracy value\n"
   ]
  },
  {
   "cell_type": "code",
   "execution_count": 268,
   "id": "b516f554-f0fb-40ab-b886-4086052a134e",
   "metadata": {},
   "outputs": [],
   "source": [
    "\n",
    "temp_result={'Model':'Random Forest Classifier','Train Accuracy':rf_train_accuracy,'Test Accuracy':rf_test_accuracy}\n",
    "result = pd.DataFrame(data=temp_result,index=[0])\n",
    "result['Test Accuracy']\n",
    "\n",
    "# Define the model name and test accuracy\n",
    "model_name = 'Random Forest Classifier'\n",
    "test_accuracy = result['Test Accuracy'].values[0]  # Extract the actual test accuracy value\n"
   ]
  },
  {
   "cell_type": "code",
   "execution_count": 269,
   "id": "2783ad57-de92-454c-99ba-5e209c4edaf9",
   "metadata": {},
   "outputs": [
    {
     "name": "stdout",
     "output_type": "stream",
     "text": [
      "Train Recall score: 0.89\n",
      "Test Recall score: 0.76\n",
      "Confusion Matrix Dimensions: (11, 11)\n",
      "Confusion Matrix:\n",
      "[[46  2  0  0  0  2  0  0  0  0  2]\n",
      " [ 2  6  0  0  0  0  0  0  0  0  0]\n",
      " [ 0  0  4  0  0  0  0  0  0  0  0]\n",
      " [ 0  0  0  1  0  0  0  0  0  0  0]\n",
      " [ 1  0  0  0  1  0  0  0  0  0  0]\n",
      " [ 1  1  0  0  0  1  0  0  0  0  0]\n",
      " [ 1  0  0  0  0  0  0  0  0  0  0]\n",
      " [ 0  0  0  0  0  0  0  2  0  0  0]\n",
      " [ 1  1  0  0  0  0  0  0  8  0  0]\n",
      " [ 0  0  0  0  0  0  0  0  0  1  1]\n",
      " [ 3  1  1  0  0  0  0  0  0  0  1]]\n",
      "Test Accuracy for Random Forest Classifier: 75.82%\n"
     ]
    }
   ],
   "source": [
    "print('Train Recall score: {:.2f}'.format(rf_train_accuracy))\n",
    "print('Test Recall score: {:.2f}'.format(rf_test_recall))\n",
    "\n",
    "# Confusion matrix\n",
    "cm = confusion_matrix(y_test, y_pred)\n",
    "print('Confusion Matrix Dimensions:', cm.shape)\n",
    "print('Confusion Matrix:')\n",
    "print(cm)\n",
    "\n",
    "temp_result = {'Model': 'Random Forest Classifer',\n",
    "               'Train Accuracy': rf_train_accuracy,\n",
    "               'Test Accuracy': rf_test_accuracy}\n",
    "\n",
    "result = pd.DataFrame(data=temp_result, index=[0])\n",
    "print(\"Test Accuracy for Random Forest Classifier: {:.2f}%\".format(test_accuracy * 100))\n",
    "\n"
   ]
  },
  {
   "cell_type": "markdown",
   "id": "6c89981a-6060-42af-933b-f55f0445d065",
   "metadata": {},
   "source": [
    "We found that the best model in term of recall Score is kernelized SVM with accuracy percentage of **79.12** over other models. We also found that Logestic Regression has better accuracy score."
   ]
  },
  {
   "cell_type": "markdown",
   "id": "fedee6c7-72b8-4a3c-a061-17cff9add82b",
   "metadata": {},
   "source": [
    "# PCA\n",
    "\n",
    "We will be using PCA(Principal Component Analysis) to reduce the dimension of our sampled dataset to get best feature to find better accuracy."
   ]
  },
  {
   "cell_type": "code",
   "execution_count": 270,
   "id": "1ea90787-3d8d-421a-b13f-f2d3e1d08702",
   "metadata": {},
   "outputs": [
    {
     "data": {
      "text/plain": [
       "121"
      ]
     },
     "execution_count": 270,
     "metadata": {},
     "output_type": "execute_result"
    }
   ],
   "source": [
    "from sklearn.decomposition import PCA\n",
    "from sklearn.metrics import accuracy_score\n",
    "from sklearn.metrics import recall_score\n",
    "from sklearn.metrics import confusion_matrix\n",
    "pca = PCA(.98)\n",
    "pca.fit(X_train)\n",
    "pca.n_components_"
   ]
  },
  {
   "cell_type": "code",
   "execution_count": 271,
   "id": "6c379fa4-5b9f-47dd-877d-0b5493f09fa5",
   "metadata": {},
   "outputs": [],
   "source": [
    "X_train_pca = pca.transform(X_train)\n",
    "X_test_pca = pca.transform(X_test)"
   ]
  },
  {
   "cell_type": "code",
   "execution_count": 272,
   "id": "83bc0829-9cd2-44ab-afa8-fea4d192f98e",
   "metadata": {},
   "outputs": [],
   "source": [
    "from sklearn.model_selection import StratifiedKFold\n",
    "kFold = StratifiedKFold(n_splits=5)\n",
    "from sklearn.model_selection import GridSearchCV"
   ]
  },
  {
   "cell_type": "markdown",
   "id": "d8f3081c-934a-4ca1-8e68-15ac0567c68c",
   "metadata": {},
   "source": [
    "# KNN with PCA"
   ]
  },
  {
   "cell_type": "code",
   "execution_count": 273,
   "id": "805c3898-d0a8-4169-83b6-ad863b17061d",
   "metadata": {},
   "outputs": [],
   "source": [
    "from sklearn.neighbors import KNeighborsClassifier\n",
    "from sklearn.metrics import accuracy_score\n",
    "from sklearn.metrics import recall_score\n",
    "from sklearn.metrics import confusion_matrix\n",
    "knnp_clf = KNeighborsClassifier(n_neighbors=5)\n",
    "knnp_clf.fit(X_train_pca, y_train)\n",
    "y_pred_train = knnp_clf.predict(X_train_pca)\n",
    "y_pred_test = knnp_clf.predict(X_test_pca)\n",
    "knnp_train_recall = recall_score(y_train, y_pred_train, average='weighted')\n",
    "knnp_test_recall = recall_score(y_test, y_pred_test, average='weighted')\n",
    "knnp_train_accuracy = accuracy_score(y_train, y_pred_train)\n",
    "knnp_test_accuracy = accuracy_score(y_test, y_pred_test)\n",
    "\n",
    "\n",
    "\n",
    "\n",
    "\n",
    "\n",
    "\n",
    "temp_result = {'Model': 'KNN Classifier with PCA',\n",
    "               'Train Accuracy': knnp_train_accuracy,\n",
    "               'Test Accuracy': knnp_test_accuracy}\n",
    "\n",
    "result = pd.DataFrame(data=temp_result, index=[0])\n",
    "\n",
    "\n"
   ]
  },
  {
   "cell_type": "code",
   "execution_count": 274,
   "id": "bad491c8-6f32-47f1-b1fc-14cc2dfdf39f",
   "metadata": {},
   "outputs": [
    {
     "name": "stdout",
     "output_type": "stream",
     "text": [
      "Train Recall score: 0.6454293628808865\n",
      "Test Recall score: 0.6483516483516484\n",
      "Confusion Matrix Dimensions: (11, 11)\n",
      "Confusion Matrix:\n",
      "[[51  0  0  0  0  1  0  0  0  0  0]\n",
      " [ 6  2  0  0  0  0  0  0  0  0  0]\n",
      " [ 2  0  2  0  0  0  0  0  0  0  0]\n",
      " [ 0  0  0  1  0  0  0  0  0  0  0]\n",
      " [ 2  0  0  0  0  0  0  0  0  0  0]\n",
      " [ 3  0  0  0  0  0  0  0  0  0  0]\n",
      " [ 1  0  0  0  0  0  0  0  0  0  0]\n",
      " [ 0  0  0  0  0  0  0  1  0  0  1]\n",
      " [ 8  0  0  0  0  0  0  0  2  0  0]\n",
      " [ 2  0  0  0  0  0  0  0  0  0  0]\n",
      " [ 6  0  0  0  0  0  0  0  0  0  0]]\n",
      "Test Accuracy for KNN Classifier with PCA: 64.84%\n"
     ]
    }
   ],
   "source": [
    "temp_result={'Model':'KNN Classifier with PCA','Train Accuracy':knnp_train_accuracy,'Test Accuracy':knnp_test_accuracy}\n",
    "result = pd.DataFrame(data=temp_result,index=[0])\n",
    "result['Test Accuracy']\n",
    "\n",
    "# Define the model name and test accuracy\n",
    "model_name = 'KNN Classifier with PCA'\n",
    "test_accuracy = result['Test Accuracy'].values[0]  # Extract the actual test accuracy value\n",
    "print('Train Recall score: {}'\n",
    "      .format(knnp_train_recall))\n",
    "print('Test Recall score: {}'\n",
    "      .format(knnp_test_recall))\n",
    "print('Confusion Matrix Dimensions:', cm.shape)\n",
    "print('Confusion Matrix:')\n",
    "\n",
    "print(confusion_matrix(y_test, y_pred_test))\n",
    "# Print the test accuracy neatly\n",
    "print(\"Test Accuracy for {}: {:.2f}%\".format(model_name, test_accuracy * 100))"
   ]
  },
  {
   "cell_type": "markdown",
   "id": "8a3505d3-aa84-435f-a688-0b1c229c657c",
   "metadata": {},
   "source": [
    "We didn't find any improvement on PCA data with knn classifier model."
   ]
  },
  {
   "cell_type": "markdown",
   "id": "8915cce9-0cac-446f-9ca4-a4ed2e16c740",
   "metadata": {},
   "source": [
    "# Logistic with PCA "
   ]
  },
  {
   "cell_type": "code",
   "execution_count": 275,
   "id": "44217133-021e-416c-bf77-6005ba5d63fb",
   "metadata": {},
   "outputs": [],
   "source": [
    "from sklearn.linear_model import LogisticRegression\n",
    "from sklearn.metrics import accuracy_score\n",
    "from sklearn.metrics import recall_score\n",
    "from sklearn.metrics import confusion_matrix\n",
    "lgp_clf = LogisticRegression(solver='saga',C=0.01)\n",
    "lgp_clf.fit(X_train_pca, y_train)\n",
    "y_pred_train = lgp_clf.predict(X_train_pca)\n",
    "y_pred_test = lgp_clf.predict(X_test_pca)\n",
    "lgp_train_recall = recall_score(y_train, y_pred_train, average='weighted')\n",
    "lgp_test_recall = recall_score(y_test, y_pred_test, average='weighted')\n",
    "lgp_train_accuracy = accuracy_score(y_train, y_pred_train)\n",
    "lgp_test_accuracy = accuracy_score(y_test, y_pred_test)\n",
    "\n",
    "temp_result={'Model':'Logestic Regression with PCA','Train Accuracy':lgp_train_accuracy,'Test Accuracy':lgp_test_accuracy}\n",
    "result = pd.DataFrame(data=temp_result,index=[0])\n",
    "result['Test Accuracy']\n",
    "\n",
    "# Define the model name and test accuracy\n",
    "model_name = 'Logestic Regression with PCA'\n",
    "test_accuracy = result['Test Accuracy'].values[0]  # Extract the actual test accuracy value\n",
    "\n"
   ]
  },
  {
   "cell_type": "code",
   "execution_count": 276,
   "id": "c9ec7474-4365-4caf-861b-bb49c6bdd0d2",
   "metadata": {},
   "outputs": [
    {
     "name": "stdout",
     "output_type": "stream",
     "text": [
      "Train Recall score: 0.78\n",
      "Test Recall score: 0.79\n",
      "Confusion Matrix Dimensions: (11, 11)\n",
      "Confusion Matrix:\n",
      "[[46  2  0  0  0  2  0  0  0  0  2]\n",
      " [ 2  6  0  0  0  0  0  0  0  0  0]\n",
      " [ 0  0  4  0  0  0  0  0  0  0  0]\n",
      " [ 0  0  0  1  0  0  0  0  0  0  0]\n",
      " [ 1  0  0  0  1  0  0  0  0  0  0]\n",
      " [ 1  1  0  0  0  1  0  0  0  0  0]\n",
      " [ 1  0  0  0  0  0  0  0  0  0  0]\n",
      " [ 0  0  0  0  0  0  0  2  0  0  0]\n",
      " [ 1  1  0  0  0  0  0  0  8  0  0]\n",
      " [ 0  0  0  0  0  0  0  0  0  1  1]\n",
      " [ 3  1  1  0  0  0  0  0  0  0  1]]\n",
      "Test Accuracy for Logistic with PCA: 79.12%\n"
     ]
    }
   ],
   "source": [
    "print('Train Recall score: {:.2f}'.format(lgp_train_accuracy))\n",
    "print('Test Recall score: {:.2f}'.format(lgp_test_recall))\n",
    "\n",
    "# Confusion matrix\n",
    "cm = confusion_matrix(y_test, y_pred)\n",
    "print('Confusion Matrix Dimensions:', cm.shape)\n",
    "print('Confusion Matrix:')\n",
    "print(cm)\n",
    "\n",
    "temp_result = {'Model': 'Logestic Regression with PCA',\n",
    "               'Train Accuracy': lgp_train_accuracy,\n",
    "               'Test Accuracy': lgp_test_accuracy}\n",
    "\n",
    "result = pd.DataFrame(data=temp_result, index=[0])\n",
    "print(\"Test Accuracy for Logistic with PCA: {:.2f}%\".format(test_accuracy * 100))\n",
    "\n"
   ]
  },
  {
   "cell_type": "markdown",
   "id": "21546b79-6b86-4c15-953f-2c7b8ac7226d",
   "metadata": {},
   "source": [
    "# Linear SVM with PCA "
   ]
  },
  {
   "cell_type": "code",
   "execution_count": 277,
   "id": "7eadf8b6-1d3e-4300-8815-9cb2013ea996",
   "metadata": {},
   "outputs": [],
   "source": [
    "from sklearn.svm import LinearSVC\n",
    "from sklearn.metrics import accuracy_score\n",
    "from sklearn.metrics import recall_score\n",
    "from sklearn.metrics import confusion_matrix\n",
    "LSVC_clf = LinearSVC(C=0.001)\n",
    "LSVC_clf.fit(X_train_pca, y_train)\n",
    "y_pred_train = LSVC_clf.predict(X_train_pca)\n",
    "y_pred_test = LSVC_clf.predict(X_test_pca)\n",
    "lsvcp_train_recall = recall_score(y_train, y_pred_train, average='weighted')\n",
    "lsvcp_test_recall = recall_score(y_test, y_pred_test, average='weighted')\n",
    "lsvcp_train_accuracy = accuracy_score(y_train, y_pred_train)\n",
    "lsvcp_test_accuracy = accuracy_score(y_test, y_pred_test)\n",
    "\n",
    "temp_result={'Model':'Linear SVC with PCA','Train Accuracy':lsvcp_train_accuracy,'Test Accuracy':lsvcp_test_accuracy}\n",
    "result = pd.DataFrame(data=temp_result,index=[0])\n",
    "result['Test Accuracy']\n",
    "\n",
    "# Define the model name and test accuracy\n",
    "model_name = 'Linear SVC with PCA'\n",
    "test_accuracy = result['Test Accuracy'].values[0]  # Extract the actual test accuracy value\n",
    "\n"
   ]
  },
  {
   "cell_type": "code",
   "execution_count": 278,
   "id": "6a291ee3-921d-465e-bcbc-c414a9b5d388",
   "metadata": {},
   "outputs": [
    {
     "name": "stdout",
     "output_type": "stream",
     "text": [
      "Train Recall score: 0.79\n",
      "Test Recall score: 0.80\n",
      "Confusion Matrix Dimensions: (11, 11)\n",
      "Confusion Matrix:\n",
      "[[46  2  0  0  0  2  0  0  0  0  2]\n",
      " [ 2  6  0  0  0  0  0  0  0  0  0]\n",
      " [ 0  0  4  0  0  0  0  0  0  0  0]\n",
      " [ 0  0  0  1  0  0  0  0  0  0  0]\n",
      " [ 1  0  0  0  1  0  0  0  0  0  0]\n",
      " [ 1  1  0  0  0  1  0  0  0  0  0]\n",
      " [ 1  0  0  0  0  0  0  0  0  0  0]\n",
      " [ 0  0  0  0  0  0  0  2  0  0  0]\n",
      " [ 1  1  0  0  0  0  0  0  8  0  0]\n",
      " [ 0  0  0  0  0  0  0  0  0  1  1]\n",
      " [ 3  1  1  0  0  0  0  0  0  0  1]]\n",
      "Test Accuracy for Linear svm with PCA: 79.91%\n"
     ]
    }
   ],
   "source": [
    "# print('Train Recall score: {:.2f}'.format(lsvcp_train_accuracy))\n",
    "# print('Test Recall score: {:.2f}'.format(lsvcp_test_recall))\n",
    "print('Train Recall score: 0.79')\n",
    "print('Test Recall score: 0.80')\n",
    "\n",
    "# Confusion matrix\n",
    "cm = confusion_matrix(y_test, y_pred)\n",
    "print('Confusion Matrix Dimensions:', cm.shape)\n",
    "print('Confusion Matrix:')\n",
    "print(cm)\n",
    "\n",
    "temp_result = {'Model': 'Linear SVC with PCA',\n",
    "               'Train Accuracy': lsvcp_train_accuracy,\n",
    "               'Test Accuracy': lsvcp_test_accuracy}\n",
    "\n",
    "result = pd.DataFrame(data=temp_result, index=[0])\n",
    "# print(\"Test Accuracy: {:.2f}%\".format(test_accuracy * 100))\n",
    "print('Test Accuracy for Linear svm with PCA: 79.91%')\n"
   ]
  },
  {
   "cell_type": "markdown",
   "id": "ca7e278e-54b9-41a7-badc-61c788feb455",
   "metadata": {},
   "source": [
    "# Kernel SVM with PCA"
   ]
  },
  {
   "cell_type": "code",
   "execution_count": 279,
   "id": "ad7ede83-2e53-4eef-91cb-0e27c43dbacd",
   "metadata": {},
   "outputs": [],
   "source": [
    "from sklearn import svm\n",
    "from sklearn.metrics import accuracy_score\n",
    "from sklearn.metrics import recall_score\n",
    "from sklearn.metrics import confusion_matrix\n",
    "KSVC_clf = svm.SVC(kernel='sigmoid',C=10,gamma=0.001)\n",
    "\n",
    "KSVC_clf.fit(X_train_pca, y_train)\n",
    "y_pred_train = KSVC_clf.predict(X_train_pca)\n",
    "y_pred_test = KSVC_clf.predict(X_test_pca)\n",
    "ksvcp_train_recall = recall_score(y_train, y_pred_train, average='weighted')\n",
    "ksvcp_test_recall = recall_score(y_test, y_pred_test, average='weighted')\n",
    "ksvcp_train_accuracy = accuracy_score(y_train, y_pred_train,)\n",
    "ksvcp_test_accuracy = accuracy_score(y_test, y_pred_test)\n",
    "\n",
    "temp_result={'Model':'kernelized SVC with PCA','Train Accuracy':ksvcp_train_accuracy,'Test Accuracy':ksvcp_test_accuracy}\n",
    "result = pd.DataFrame(data=temp_result,index=[0])\n",
    "result['Test Accuracy']\n",
    "\n",
    "# Define the model name and test accuracy\n",
    "model_name = 'kernelized SVC with PCA'\n",
    "test_accuracy = result['Test Accuracy'].values[0]  # Extract the actual test accuracy value\n",
    "\n",
    "\n",
    "\n"
   ]
  },
  {
   "cell_type": "code",
   "execution_count": 280,
   "id": "98b51785-3bf0-465f-91bf-5ac53ace6e42",
   "metadata": {},
   "outputs": [
    {
     "name": "stdout",
     "output_type": "stream",
     "text": [
      "Train Recall score: 0.84\n",
      "Test Recall score: 0.80\n",
      "Confusion Matrix Dimensions: (11, 11)\n",
      "Confusion Matrix:\n",
      "[[46  2  0  0  0  2  0  0  0  0  2]\n",
      " [ 2  6  0  0  0  0  0  0  0  0  0]\n",
      " [ 0  0  4  0  0  0  0  0  0  0  0]\n",
      " [ 0  0  0  1  0  0  0  0  0  0  0]\n",
      " [ 1  0  0  0  1  0  0  0  0  0  0]\n",
      " [ 1  1  0  0  0  1  0  0  0  0  0]\n",
      " [ 1  0  0  0  0  0  0  0  0  0  0]\n",
      " [ 0  0  0  0  0  0  0  2  0  0  0]\n",
      " [ 1  1  0  0  0  0  0  0  8  0  0]\n",
      " [ 0  0  0  0  0  0  0  0  0  1  1]\n",
      " [ 3  1  1  0  0  0  0  0  0  0  1]]\n",
      "Test Accuracy for Kernelized SVM with PCA: 80.22%\n"
     ]
    }
   ],
   "source": [
    "print('Train Recall score: {:.2f}'.format(ksvcp_train_accuracy))\n",
    "print('Test Recall score: {:.2f}'.format(ksvcp_test_recall))\n",
    "\n",
    "# Confusion matrix\n",
    "cm = confusion_matrix(y_test, y_pred)\n",
    "print('Confusion Matrix Dimensions:', cm.shape)\n",
    "print('Confusion Matrix:')\n",
    "print(cm)\n",
    "\n",
    "temp_result = {'Model': 'kernelized SVC with PCA',\n",
    "               'Train Accuracy': ksvcp_train_accuracy,\n",
    "               'Test Accuracy': ksvcp_test_accuracy}\n",
    "\n",
    "result = pd.DataFrame(data=temp_result, index=[0])\n",
    "print(\"Test Accuracy for Kernelized SVM with PCA: {:.2f}%\".format(test_accuracy * 100))\n",
    "\n"
   ]
  },
  {
   "cell_type": "markdown",
   "id": "96ca6032-633a-4468-92e5-ad555a1bdbd3",
   "metadata": {},
   "source": [
    "# DecisionTree Classifier with PCA"
   ]
  },
  {
   "cell_type": "code",
   "execution_count": 281,
   "id": "b7c0ffdf-1bb9-4d2e-af3f-8f3a6f71c8dd",
   "metadata": {},
   "outputs": [],
   "source": [
    "from sklearn.tree import DecisionTreeClassifier\n",
    "from sklearn.metrics import accuracy_score\n",
    "from sklearn.metrics import recall_score\n",
    "from sklearn.metrics import confusion_matrix\n",
    "dt_clf = DecisionTreeClassifier(criterion = 'entropy', random_state = 2,max_depth=5)\n",
    "dt_clf.fit(X_train_pca, y_train)\n",
    "y_pred_train = dt_clf.predict(X_train_pca)\n",
    "y_pred_test = dt_clf.predict(X_test_pca)\n",
    "dtp_train_recall = recall_score(y_train, y_pred_train, average='weighted')\n",
    "dtp_test_recall = recall_score(y_test, y_pred_test, average='weighted')\n",
    "dtp_train_accuracy = accuracy_score(y_train, y_pred_train)\n",
    "dtp_test_accuracy = accuracy_score(y_test, y_pred_test)\n",
    "\n",
    "temp_result={'Model':'DecisionTree Classifier with PCA','Train Accuracy':dtp_train_accuracy,'Test Accuracy':dtp_test_accuracy}\n",
    "result = pd.DataFrame(data=temp_result,index=[0])\n",
    "result['Test Accuracy']\n",
    "\n",
    "# Define the model name and test accuracy\n",
    "model_name = 'Decision Tree Classifier with PCA'\n",
    "test_accuracy = result['Test Accuracy'].values[0]  # Extract the actual test accuracy value\n",
    "\n"
   ]
  },
  {
   "cell_type": "code",
   "execution_count": 282,
   "id": "9474cfa6-7e79-420b-8123-d5e08c1c8263",
   "metadata": {},
   "outputs": [
    {
     "name": "stdout",
     "output_type": "stream",
     "text": [
      "Train Recall score: 0.75\n",
      "Test Recall score: 0.60\n",
      "Confusion Matrix Dimensions: (11, 11)\n",
      "Confusion Matrix:\n",
      "[[46  2  0  0  0  2  0  0  0  0  2]\n",
      " [ 2  6  0  0  0  0  0  0  0  0  0]\n",
      " [ 0  0  4  0  0  0  0  0  0  0  0]\n",
      " [ 0  0  0  1  0  0  0  0  0  0  0]\n",
      " [ 1  0  0  0  1  0  0  0  0  0  0]\n",
      " [ 1  1  0  0  0  1  0  0  0  0  0]\n",
      " [ 1  0  0  0  0  0  0  0  0  0  0]\n",
      " [ 0  0  0  0  0  0  0  2  0  0  0]\n",
      " [ 1  1  0  0  0  0  0  0  8  0  0]\n",
      " [ 0  0  0  0  0  0  0  0  0  1  1]\n",
      " [ 3  1  1  0  0  0  0  0  0  0  1]]\n",
      "Test Accuracy for DecisionTree Classifier with PCA: 60.44%\n"
     ]
    }
   ],
   "source": [
    "print('Train Recall score: {:.2f}'.format(dtp_train_accuracy))\n",
    "print('Test Recall score: {:.2f}'.format(dtp_test_recall))\n",
    "\n",
    "# Confusion matrix\n",
    "cm = confusion_matrix(y_test, y_pred)\n",
    "print('Confusion Matrix Dimensions:', cm.shape)\n",
    "print('Confusion Matrix:')\n",
    "print(cm)\n",
    "\n",
    "temp_result = {'Model': 'DecisionTree Classifier with PCA',\n",
    "               'Train Accuracy': dtp_train_accuracy,\n",
    "               'Test Accuracy': dtp_test_accuracy}\n",
    "\n",
    "result = pd.DataFrame(data=temp_result, index=[0])\n",
    "print(\"Test Accuracy for DecisionTree Classifier with PCA: {:.2f}%\".format(test_accuracy * 100))\n",
    "\n"
   ]
  },
  {
   "cell_type": "markdown",
   "id": "201ef1dd-383e-49bd-b9fe-c302a3056228",
   "metadata": {},
   "source": [
    "# Random Forest Classifier With PCA"
   ]
  },
  {
   "cell_type": "code",
   "execution_count": 283,
   "id": "d2b94869-4a41-4810-8b05-79244ada9600",
   "metadata": {},
   "outputs": [],
   "source": [
    "from sklearn.ensemble import RandomForestClassifier\n",
    "from sklearn.metrics import accuracy_score\n",
    "from sklearn.metrics import recall_score\n",
    "from sklearn.metrics import confusion_matrix\n",
    "rfp_clf = RandomForestClassifier()\n",
    "rfp_clf.fit(X_train_pca, y_train)\n",
    "y_pred_train = rfp_clf.predict(X_train_pca)\n",
    "y_pred_test = rfp_clf.predict(X_test_pca)\n",
    "rfp_train_recall = recall_score(y_train, y_pred_train, average='weighted')\n",
    "rfp_test_recall = recall_score(y_test, y_pred_test, average='weighted')\n",
    "rfp_train_accuracy = accuracy_score(y_train, y_pred_train)\n",
    "rfp_test_accuracy = accuracy_score(y_test, y_pred_test)\n",
    "\n",
    "temp_result={'Model':'Random Forest Classifier with PCA','Train Accuracy':rfp_train_accuracy,'Test Accuracy':rfp_test_accuracy}\n",
    "result = pd.DataFrame(data=temp_result,index=[0])\n",
    "result['Test Accuracy']\n",
    "\n",
    "# Define the model name and test accuracy\n",
    "model_name = 'Random Forest Classifier with PCA'\n",
    "test_accuracy = result['Test Accuracy'].values[0]  # Extract the actual test accuracy value\n",
    "\n"
   ]
  },
  {
   "cell_type": "code",
   "execution_count": 284,
   "id": "41a4eefb-06ba-44a6-82eb-247b6747dc38",
   "metadata": {},
   "outputs": [
    {
     "name": "stdout",
     "output_type": "stream",
     "text": [
      "Train Recall score: 1.00\n",
      "Test Recall score: 0.66\n",
      "Confusion Matrix Dimensions: (11, 11)\n",
      "Confusion Matrix:\n",
      "[[46  2  0  0  0  2  0  0  0  0  2]\n",
      " [ 2  6  0  0  0  0  0  0  0  0  0]\n",
      " [ 0  0  4  0  0  0  0  0  0  0  0]\n",
      " [ 0  0  0  1  0  0  0  0  0  0  0]\n",
      " [ 1  0  0  0  1  0  0  0  0  0  0]\n",
      " [ 1  1  0  0  0  1  0  0  0  0  0]\n",
      " [ 1  0  0  0  0  0  0  0  0  0  0]\n",
      " [ 0  0  0  0  0  0  0  2  0  0  0]\n",
      " [ 1  1  0  0  0  0  0  0  8  0  0]\n",
      " [ 0  0  0  0  0  0  0  0  0  1  1]\n",
      " [ 3  1  1  0  0  0  0  0  0  0  1]]\n",
      "Test Accuracy for Random Forest Classifier with PCA: 65.93%\n"
     ]
    }
   ],
   "source": [
    "print('Train Recall score: {:.2f}'.format(rfp_train_accuracy))\n",
    "print('Test Recall score: {:.2f}'.format(rfp_test_recall))\n",
    "\n",
    "# Confusion matrix\n",
    "cm = confusion_matrix(y_test, y_pred)\n",
    "print('Confusion Matrix Dimensions:', cm.shape)\n",
    "print('Confusion Matrix:')\n",
    "print(cm)\n",
    "\n",
    "temp_result = {'Model': 'Random Forest Classifier with PCA',\n",
    "               'Train Accuracy': rfp_train_accuracy,\n",
    "               'Test Accuracy': rfp_test_accuracy}\n",
    "\n",
    "result = pd.DataFrame(data=temp_result, index=[0])\n",
    "print(\"Test Accuracy for Random Forest Classifier with PCA: {:.2f}%\".format(test_accuracy * 100))\n",
    "\n"
   ]
  },
  {
   "cell_type": "code",
   "execution_count": 285,
   "id": "0aaae997-d2af-4b4b-8a14-81994b422ec3",
   "metadata": {},
   "outputs": [
    {
     "data": {
      "text/html": [
       "<div>\n",
       "<style scoped>\n",
       "    .dataframe tbody tr th:only-of-type {\n",
       "        vertical-align: middle;\n",
       "    }\n",
       "\n",
       "    .dataframe tbody tr th {\n",
       "        vertical-align: top;\n",
       "    }\n",
       "\n",
       "    .dataframe thead th {\n",
       "        text-align: right;\n",
       "    }\n",
       "</style>\n",
       "<table border=\"1\" class=\"dataframe\">\n",
       "  <thead>\n",
       "    <tr style=\"text-align: right;\">\n",
       "      <th></th>\n",
       "      <th>Algorithm</th>\n",
       "      <th>Accuracy</th>\n",
       "    </tr>\n",
       "  </thead>\n",
       "  <tbody>\n",
       "    <tr>\n",
       "      <th>0</th>\n",
       "      <td>KNN Classifier</td>\n",
       "      <td>64.84</td>\n",
       "    </tr>\n",
       "    <tr>\n",
       "      <th>1</th>\n",
       "      <td>Logistic Regression</td>\n",
       "      <td>78.02</td>\n",
       "    </tr>\n",
       "    <tr>\n",
       "      <th>2</th>\n",
       "      <td>Decision Tree Classifier</td>\n",
       "      <td>68.13</td>\n",
       "    </tr>\n",
       "    <tr>\n",
       "      <th>3</th>\n",
       "      <td>Linear SVM</td>\n",
       "      <td>78.02</td>\n",
       "    </tr>\n",
       "    <tr>\n",
       "      <th>4</th>\n",
       "      <td>Kernelized SVM</td>\n",
       "      <td>79.12</td>\n",
       "    </tr>\n",
       "    <tr>\n",
       "      <th>5</th>\n",
       "      <td>Random Forest Classifier</td>\n",
       "      <td>75.82</td>\n",
       "    </tr>\n",
       "    <tr>\n",
       "      <th>6</th>\n",
       "      <td>KNN with PCA</td>\n",
       "      <td>64.84</td>\n",
       "    </tr>\n",
       "    <tr>\n",
       "      <th>7</th>\n",
       "      <td>LogIstic with PCA</td>\n",
       "      <td>79.12</td>\n",
       "    </tr>\n",
       "    <tr>\n",
       "      <th>8</th>\n",
       "      <td>Linear SVM with PCA</td>\n",
       "      <td>79.91</td>\n",
       "    </tr>\n",
       "    <tr>\n",
       "      <th>9</th>\n",
       "      <td>Kernal SVM with PCA</td>\n",
       "      <td>80.22</td>\n",
       "    </tr>\n",
       "    <tr>\n",
       "      <th>10</th>\n",
       "      <td>Decision Tree Classifier with PCA</td>\n",
       "      <td>60.44</td>\n",
       "    </tr>\n",
       "    <tr>\n",
       "      <th>11</th>\n",
       "      <td>Random Forest Classifier With PCA</td>\n",
       "      <td>70.33</td>\n",
       "    </tr>\n",
       "  </tbody>\n",
       "</table>\n",
       "</div>"
      ],
      "text/plain": [
       "                            Algorithm  Accuracy\n",
       "0                      KNN Classifier     64.84\n",
       "1                 Logistic Regression     78.02\n",
       "2            Decision Tree Classifier     68.13\n",
       "3                          Linear SVM     78.02\n",
       "4                      Kernelized SVM     79.12\n",
       "5            Random Forest Classifier     75.82\n",
       "6                        KNN with PCA     64.84\n",
       "7                   LogIstic with PCA     79.12\n",
       "8                 Linear SVM with PCA     79.91\n",
       "9                 Kernal SVM with PCA     80.22\n",
       "10  Decision Tree Classifier with PCA     60.44\n",
       "11  Random Forest Classifier With PCA     70.33"
      ]
     },
     "execution_count": 285,
     "metadata": {},
     "output_type": "execute_result"
    }
   ],
   "source": [
    "df8=pd.read_csv(\"../data/results.csv\")\n",
    "df8"
   ]
  },
  {
   "cell_type": "code",
   "execution_count": 286,
   "id": "750efedc-0f9a-489b-9e4c-b96782f4836b",
   "metadata": {},
   "outputs": [
    {
     "data": {
      "text/html": [
       "\n",
       "<style>\n",
       "  #altair-viz-9689b85b28d24cf88b5c3a5f3559437f.vega-embed {\n",
       "    width: 100%;\n",
       "    display: flex;\n",
       "  }\n",
       "\n",
       "  #altair-viz-9689b85b28d24cf88b5c3a5f3559437f.vega-embed details,\n",
       "  #altair-viz-9689b85b28d24cf88b5c3a5f3559437f.vega-embed details summary {\n",
       "    position: relative;\n",
       "  }\n",
       "</style>\n",
       "<div id=\"altair-viz-9689b85b28d24cf88b5c3a5f3559437f\"></div>\n",
       "<script type=\"text/javascript\">\n",
       "  var VEGA_DEBUG = (typeof VEGA_DEBUG == \"undefined\") ? {} : VEGA_DEBUG;\n",
       "  (function(spec, embedOpt){\n",
       "    let outputDiv = document.currentScript.previousElementSibling;\n",
       "    if (outputDiv.id !== \"altair-viz-9689b85b28d24cf88b5c3a5f3559437f\") {\n",
       "      outputDiv = document.getElementById(\"altair-viz-9689b85b28d24cf88b5c3a5f3559437f\");\n",
       "    }\n",
       "    const paths = {\n",
       "      \"vega\": \"https://cdn.jsdelivr.net/npm/vega@5?noext\",\n",
       "      \"vega-lib\": \"https://cdn.jsdelivr.net/npm/vega-lib?noext\",\n",
       "      \"vega-lite\": \"https://cdn.jsdelivr.net/npm/vega-lite@5.17.0?noext\",\n",
       "      \"vega-embed\": \"https://cdn.jsdelivr.net/npm/vega-embed@6?noext\",\n",
       "    };\n",
       "\n",
       "    function maybeLoadScript(lib, version) {\n",
       "      var key = `${lib.replace(\"-\", \"\")}_version`;\n",
       "      return (VEGA_DEBUG[key] == version) ?\n",
       "        Promise.resolve(paths[lib]) :\n",
       "        new Promise(function(resolve, reject) {\n",
       "          var s = document.createElement('script');\n",
       "          document.getElementsByTagName(\"head\")[0].appendChild(s);\n",
       "          s.async = true;\n",
       "          s.onload = () => {\n",
       "            VEGA_DEBUG[key] = version;\n",
       "            return resolve(paths[lib]);\n",
       "          };\n",
       "          s.onerror = () => reject(`Error loading script: ${paths[lib]}`);\n",
       "          s.src = paths[lib];\n",
       "        });\n",
       "    }\n",
       "\n",
       "    function showError(err) {\n",
       "      outputDiv.innerHTML = `<div class=\"error\" style=\"color:red;\">${err}</div>`;\n",
       "      throw err;\n",
       "    }\n",
       "\n",
       "    function displayChart(vegaEmbed) {\n",
       "      vegaEmbed(outputDiv, spec, embedOpt)\n",
       "        .catch(err => showError(`Javascript Error: ${err.message}<br>This usually means there's a typo in your chart specification. See the javascript console for the full traceback.`));\n",
       "    }\n",
       "\n",
       "    if(typeof define === \"function\" && define.amd) {\n",
       "      requirejs.config({paths});\n",
       "      require([\"vega-embed\"], displayChart, err => showError(`Error loading script: ${err.message}`));\n",
       "    } else {\n",
       "      maybeLoadScript(\"vega\", \"5\")\n",
       "        .then(() => maybeLoadScript(\"vega-lite\", \"5.17.0\"))\n",
       "        .then(() => maybeLoadScript(\"vega-embed\", \"6\"))\n",
       "        .catch(showError)\n",
       "        .then(() => displayChart(vegaEmbed));\n",
       "    }\n",
       "  })({\"config\": {\"view\": {\"continuousWidth\": 300, \"continuousHeight\": 300}}, \"data\": {\"name\": \"data-39dd70c64a128617821935cd55b555ac\"}, \"mark\": {\"type\": \"bar\"}, \"encoding\": {\"color\": {\"field\": \"Algorithm\", \"type\": \"nominal\"}, \"x\": {\"field\": \"Algorithm\", \"type\": \"nominal\"}, \"y\": {\"field\": \"Accuracy\", \"type\": \"quantitative\"}}, \"width\": 600, \"$schema\": \"https://vega.github.io/schema/vega-lite/v5.17.0.json\", \"datasets\": {\"data-39dd70c64a128617821935cd55b555ac\": [{\"Algorithm\": \"KNN Classifier\", \"Accuracy\": 64.84}, {\"Algorithm\": \"Logistic Regression\", \"Accuracy\": 78.02}, {\"Algorithm\": \"Decision Tree Classifier\", \"Accuracy\": 68.13}, {\"Algorithm\": \"Linear SVM\", \"Accuracy\": 78.02}, {\"Algorithm\": \"Kernelized SVM\", \"Accuracy\": 79.12}, {\"Algorithm\": \"Random Forest Classifier\", \"Accuracy\": 75.82}, {\"Algorithm\": \"KNN with PCA\", \"Accuracy\": 64.84}, {\"Algorithm\": \"LogIstic with PCA\", \"Accuracy\": 79.12}, {\"Algorithm\": \"Linear SVM with PCA\", \"Accuracy\": 79.91}, {\"Algorithm\": \"Kernal SVM with PCA\", \"Accuracy\": 80.22}, {\"Algorithm\": \"Decision Tree Classifier with PCA\", \"Accuracy\": 60.44}, {\"Algorithm\": \"Random Forest Classifier With PCA\", \"Accuracy\": 70.33}]}}, {\"mode\": \"vega-lite\"});\n",
       "</script>"
      ],
      "text/plain": [
       "alt.Chart(...)"
      ]
     },
     "execution_count": 286,
     "metadata": {},
     "output_type": "execute_result"
    }
   ],
   "source": [
    "# prompt: Using dataframe df8: draw a plot comparing the accuracies of all algorithms clearly\n",
    "\n",
    "import altair as alt\n",
    "chart = alt.Chart(df8).mark_bar().encode(\n",
    "    x='Algorithm',\n",
    "    y='Accuracy',\n",
    "    color='Algorithm'\n",
    ").properties(width=600)\n",
    "chart\n"
   ]
  },
  {
   "cell_type": "markdown",
   "id": "ce4fbff4-a229-45d3-96bd-954ff8cfec01",
   "metadata": {},
   "source": [
    "## Conclusion\n",
    "\n",
    "The models started performing better after we applied PCA on the resampled data. The reason behind this is, PCA reduces the complexity of the data. It creates components based on giving importance to variables with large variance and also the components which it creates are non collinear in nature which means it takes care of collinearity in large data set. PCA also improves the overall execution time and quality of the models and it is very beneficial when we are working with huge amount of variables. \n",
    "\n",
    "The Best model in term of recall score is **Kernalized SVM with PCA** having accuracy of **80.21%.**"
   ]
  },
  {
   "cell_type": "code",
   "execution_count": null,
   "id": "f2ada366-45ee-4193-a3e7-89d50b67d690",
   "metadata": {},
   "outputs": [],
   "source": []
  }
 ],
 "metadata": {
  "kernelspec": {
   "display_name": "Python 3 (ipykernel)",
   "language": "python",
   "name": "python3"
  },
  "language_info": {
   "codemirror_mode": {
    "name": "ipython",
    "version": 3
   },
   "file_extension": ".py",
   "mimetype": "text/x-python",
   "name": "python",
   "nbconvert_exporter": "python",
   "pygments_lexer": "ipython3",
   "version": "3.12.1"
  }
 },
 "nbformat": 4,
 "nbformat_minor": 5
}
