{
 "cells": [
  {
   "cell_type": "code",
   "execution_count": null,
   "id": "77256781-f753-4256-9f23-9890034c7034",
   "metadata": {},
   "outputs": [],
   "source": []
  },
  {
   "cell_type": "markdown",
   "id": "a9f5f08a-3b6c-4156-9b1c-0e85c96796a0",
   "metadata": {},
   "source": [
    "# PCA\n",
    "\n",
    "We will be using PCA(Principal Component Analysis) to reduce the dimension of our sampled dataset to get best feature to find better accuracy."
   ]
  },
  {
   "cell_type": "code",
   "execution_count": 66,
   "id": "e068723c-4ee2-488f-aa0a-3ef91749f72d",
   "metadata": {},
   "outputs": [],
   "source": [
    "import pandas as pd\n",
    "import numpy as np\n",
    "from sklearn.model_selection import train_test_split\n",
    "from sklearn.preprocessing import StandardScaler\n",
    "import sklearn.metrics\n",
    "import joblib\n",
    "import os\n"
   ]
  },
  {
   "cell_type": "code",
   "execution_count": 67,
   "id": "3cc75d0d-a69b-489b-9869-0bf47530c63e",
   "metadata": {},
   "outputs": [
    {
     "name": "stdout",
     "output_type": "stream",
     "text": [
      "✅ Data loaded. Shape: (452, 279)\n"
     ]
    },
    {
     "data": {
      "text/html": [
       "<div>\n",
       "<style scoped>\n",
       "    .dataframe tbody tr th:only-of-type {\n",
       "        vertical-align: middle;\n",
       "    }\n",
       "\n",
       "    .dataframe tbody tr th {\n",
       "        vertical-align: top;\n",
       "    }\n",
       "\n",
       "    .dataframe thead th {\n",
       "        text-align: right;\n",
       "    }\n",
       "</style>\n",
       "<table border=\"1\" class=\"dataframe\">\n",
       "  <thead>\n",
       "    <tr style=\"text-align: right;\">\n",
       "      <th></th>\n",
       "      <th>Age</th>\n",
       "      <th>Sex</th>\n",
       "      <th>Height</th>\n",
       "      <th>Weight</th>\n",
       "      <th>QRS_Dur</th>\n",
       "      <th>P-R_Int</th>\n",
       "      <th>Q-T_Int</th>\n",
       "      <th>T_Int</th>\n",
       "      <th>P_Int</th>\n",
       "      <th>QRS</th>\n",
       "      <th>...</th>\n",
       "      <th>V6271</th>\n",
       "      <th>V6272</th>\n",
       "      <th>V6273</th>\n",
       "      <th>V6274</th>\n",
       "      <th>V6275</th>\n",
       "      <th>V6276</th>\n",
       "      <th>V6277</th>\n",
       "      <th>V6278</th>\n",
       "      <th>V6279</th>\n",
       "      <th>class</th>\n",
       "    </tr>\n",
       "  </thead>\n",
       "  <tbody>\n",
       "    <tr>\n",
       "      <th>0</th>\n",
       "      <td>75.0</td>\n",
       "      <td>0.0</td>\n",
       "      <td>190.0</td>\n",
       "      <td>80.0</td>\n",
       "      <td>91.0</td>\n",
       "      <td>193.0</td>\n",
       "      <td>371.0</td>\n",
       "      <td>174.0</td>\n",
       "      <td>121.0</td>\n",
       "      <td>-16.0</td>\n",
       "      <td>...</td>\n",
       "      <td>0.0</td>\n",
       "      <td>9.0</td>\n",
       "      <td>-0.9</td>\n",
       "      <td>0.0</td>\n",
       "      <td>0.0</td>\n",
       "      <td>0.9</td>\n",
       "      <td>2.9</td>\n",
       "      <td>23.3</td>\n",
       "      <td>49.4</td>\n",
       "      <td>8.0</td>\n",
       "    </tr>\n",
       "    <tr>\n",
       "      <th>1</th>\n",
       "      <td>56.0</td>\n",
       "      <td>1.0</td>\n",
       "      <td>165.0</td>\n",
       "      <td>64.0</td>\n",
       "      <td>81.0</td>\n",
       "      <td>174.0</td>\n",
       "      <td>401.0</td>\n",
       "      <td>149.0</td>\n",
       "      <td>39.0</td>\n",
       "      <td>25.0</td>\n",
       "      <td>...</td>\n",
       "      <td>0.0</td>\n",
       "      <td>8.5</td>\n",
       "      <td>0.0</td>\n",
       "      <td>0.0</td>\n",
       "      <td>0.0</td>\n",
       "      <td>0.2</td>\n",
       "      <td>2.1</td>\n",
       "      <td>20.4</td>\n",
       "      <td>38.8</td>\n",
       "      <td>6.0</td>\n",
       "    </tr>\n",
       "    <tr>\n",
       "      <th>2</th>\n",
       "      <td>54.0</td>\n",
       "      <td>0.0</td>\n",
       "      <td>172.0</td>\n",
       "      <td>95.0</td>\n",
       "      <td>138.0</td>\n",
       "      <td>163.0</td>\n",
       "      <td>386.0</td>\n",
       "      <td>185.0</td>\n",
       "      <td>102.0</td>\n",
       "      <td>96.0</td>\n",
       "      <td>...</td>\n",
       "      <td>0.0</td>\n",
       "      <td>9.5</td>\n",
       "      <td>-2.4</td>\n",
       "      <td>0.0</td>\n",
       "      <td>0.0</td>\n",
       "      <td>0.3</td>\n",
       "      <td>3.4</td>\n",
       "      <td>12.3</td>\n",
       "      <td>49.0</td>\n",
       "      <td>10.0</td>\n",
       "    </tr>\n",
       "    <tr>\n",
       "      <th>3</th>\n",
       "      <td>55.0</td>\n",
       "      <td>0.0</td>\n",
       "      <td>175.0</td>\n",
       "      <td>94.0</td>\n",
       "      <td>100.0</td>\n",
       "      <td>202.0</td>\n",
       "      <td>380.0</td>\n",
       "      <td>179.0</td>\n",
       "      <td>143.0</td>\n",
       "      <td>28.0</td>\n",
       "      <td>...</td>\n",
       "      <td>0.0</td>\n",
       "      <td>12.2</td>\n",
       "      <td>-2.2</td>\n",
       "      <td>0.0</td>\n",
       "      <td>0.0</td>\n",
       "      <td>0.4</td>\n",
       "      <td>2.6</td>\n",
       "      <td>34.6</td>\n",
       "      <td>61.6</td>\n",
       "      <td>1.0</td>\n",
       "    </tr>\n",
       "    <tr>\n",
       "      <th>4</th>\n",
       "      <td>75.0</td>\n",
       "      <td>0.0</td>\n",
       "      <td>190.0</td>\n",
       "      <td>80.0</td>\n",
       "      <td>88.0</td>\n",
       "      <td>181.0</td>\n",
       "      <td>360.0</td>\n",
       "      <td>177.0</td>\n",
       "      <td>103.0</td>\n",
       "      <td>-16.0</td>\n",
       "      <td>...</td>\n",
       "      <td>0.0</td>\n",
       "      <td>13.1</td>\n",
       "      <td>-3.6</td>\n",
       "      <td>0.0</td>\n",
       "      <td>0.0</td>\n",
       "      <td>-0.1</td>\n",
       "      <td>3.9</td>\n",
       "      <td>25.4</td>\n",
       "      <td>62.8</td>\n",
       "      <td>7.0</td>\n",
       "    </tr>\n",
       "  </tbody>\n",
       "</table>\n",
       "<p>5 rows × 279 columns</p>\n",
       "</div>"
      ],
      "text/plain": [
       "    Age  Sex  Height  Weight  QRS_Dur  P-R_Int  Q-T_Int  T_Int  P_Int   QRS  \\\n",
       "0  75.0  0.0   190.0    80.0     91.0    193.0    371.0  174.0  121.0 -16.0   \n",
       "1  56.0  1.0   165.0    64.0     81.0    174.0    401.0  149.0   39.0  25.0   \n",
       "2  54.0  0.0   172.0    95.0    138.0    163.0    386.0  185.0  102.0  96.0   \n",
       "3  55.0  0.0   175.0    94.0    100.0    202.0    380.0  179.0  143.0  28.0   \n",
       "4  75.0  0.0   190.0    80.0     88.0    181.0    360.0  177.0  103.0 -16.0   \n",
       "\n",
       "   ...  V6271  V6272  V6273  V6274  V6275  V6276  V6277  V6278  V6279  class  \n",
       "0  ...    0.0    9.0   -0.9    0.0    0.0    0.9    2.9   23.3   49.4    8.0  \n",
       "1  ...    0.0    8.5    0.0    0.0    0.0    0.2    2.1   20.4   38.8    6.0  \n",
       "2  ...    0.0    9.5   -2.4    0.0    0.0    0.3    3.4   12.3   49.0   10.0  \n",
       "3  ...    0.0   12.2   -2.2    0.0    0.0    0.4    2.6   34.6   61.6    1.0  \n",
       "4  ...    0.0   13.1   -3.6    0.0    0.0   -0.1    3.9   25.4   62.8    7.0  \n",
       "\n",
       "[5 rows x 279 columns]"
      ]
     },
     "execution_count": 67,
     "metadata": {},
     "output_type": "execute_result"
    }
   ],
   "source": [
    "# Load cleaned data saved from EDA notebook\n",
    "df = pd.read_csv(\"../data/processed_arrhythmia.csv\")\n",
    "print(\"✅ Data loaded. Shape:\", df.shape)\n",
    "df.head()\n"
   ]
  },
  {
   "cell_type": "code",
   "execution_count": 68,
   "id": "c34987b7-6696-4818-b667-9d9c0e9f3d1e",
   "metadata": {},
   "outputs": [],
   "source": [
    "# If your target column is called \"class\"\n",
    "X = df.drop(columns=[\"class\"])\n",
    "y = df[\"class\"]\n"
   ]
  },
  {
   "cell_type": "code",
   "execution_count": 69,
   "id": "9003d9f9-0c66-4355-9f9b-6ed72fc0123d",
   "metadata": {},
   "outputs": [],
   "source": [
    "from sklearn.model_selection import train_test_split\n",
    "X_train, X_test, y_train, y_test = train_test_split(X, y, test_size=0.2, random_state=1)"
   ]
  },
  {
   "cell_type": "code",
   "execution_count": 70,
   "id": "a6ab73ba-233b-42b2-8933-4f6f9a0ed1d8",
   "metadata": {},
   "outputs": [],
   "source": [
    "from sklearn.preprocessing import StandardScaler\n",
    "scaler = StandardScaler()\n",
    "\n",
    "scaler.fit(X_train)\n",
    "X_train = scaler.transform(X_train)\n",
    "X_test = scaler.transform(X_test)"
   ]
  },
  {
   "cell_type": "code",
   "execution_count": 71,
   "id": "44952e73-5d27-4a8c-8df9-488ae6f07f80",
   "metadata": {},
   "outputs": [
    {
     "data": {
      "text/plain": [
       "121"
      ]
     },
     "execution_count": 71,
     "metadata": {},
     "output_type": "execute_result"
    }
   ],
   "source": [
    "from sklearn.decomposition import PCA\n",
    "from sklearn.metrics import accuracy_score\n",
    "from sklearn.metrics import recall_score\n",
    "from sklearn.metrics import confusion_matrix\n",
    "pca = PCA(.98)\n",
    "pca.fit(X_train)\n",
    "pca.n_components_"
   ]
  },
  {
   "cell_type": "code",
   "execution_count": 72,
   "id": "17500e2c-ec33-476b-8b4d-09f8ad0ec276",
   "metadata": {},
   "outputs": [],
   "source": [
    "X_train_pca = pca.transform(X_train)\n",
    "X_test_pca = pca.transform(X_test)"
   ]
  },
  {
   "cell_type": "code",
   "execution_count": 73,
   "id": "a4859c27-87a7-4ba5-819b-d384fd470bb3",
   "metadata": {},
   "outputs": [],
   "source": [
    "from sklearn.model_selection import StratifiedKFold\n",
    "kFold = StratifiedKFold(n_splits=5)\n",
    "from sklearn.model_selection import GridSearchCV"
   ]
  },
  {
   "cell_type": "markdown",
   "id": "7ef15988-4bef-4499-86a4-cdea874ea1c9",
   "metadata": {},
   "source": [
    "# KNN with PCA"
   ]
  },
  {
   "cell_type": "code",
   "execution_count": 74,
   "id": "aae17fb8-cdf5-458a-b72a-0a3dbe600b97",
   "metadata": {},
   "outputs": [],
   "source": [
    "from sklearn.neighbors import KNeighborsClassifier\n",
    "from sklearn.metrics import accuracy_score\n",
    "from sklearn.metrics import recall_score\n",
    "from sklearn.metrics import confusion_matrix\n",
    "knnp_clf = KNeighborsClassifier(n_neighbors=5)\n",
    "knnp_clf.fit(X_train_pca, y_train)\n",
    "y_pred_train = knnp_clf.predict(X_train_pca)\n",
    "y_pred_test = knnp_clf.predict(X_test_pca)\n",
    "knnp_train_recall = recall_score(y_train, y_pred_train, average='weighted')\n",
    "knnp_test_recall = recall_score(y_test, y_pred_test, average='weighted')\n",
    "knnp_train_accuracy = accuracy_score(y_train, y_pred_train)\n",
    "knnp_test_accuracy = accuracy_score(y_test, y_pred_test)\n",
    "\n",
    "\n",
    "\n",
    "\n",
    "\n",
    "\n",
    "\n",
    "temp_result = {'Model': 'KNN Classifier with PCA',\n",
    "               'Train Accuracy': knnp_train_accuracy,\n",
    "               'Test Accuracy': knnp_test_accuracy}\n",
    "\n",
    "result = pd.DataFrame(data=temp_result, index=[0])\n",
    "\n",
    "\n"
   ]
  },
  {
   "cell_type": "code",
   "execution_count": 75,
   "id": "c4ac4729-d1ce-4e65-811c-6a0173b69670",
   "metadata": {},
   "outputs": [
    {
     "name": "stdout",
     "output_type": "stream",
     "text": [
      "Train Recall score: 0.6454293628808865\n",
      "Test Recall score: 0.6483516483516484\n",
      "Confusion Matrix Dimensions: (11, 11)\n",
      "Confusion Matrix:\n",
      "[[51  0  0  0  0  1  0  0  0  0  0]\n",
      " [ 6  2  0  0  0  0  0  0  0  0  0]\n",
      " [ 2  0  2  0  0  0  0  0  0  0  0]\n",
      " [ 0  0  0  1  0  0  0  0  0  0  0]\n",
      " [ 2  0  0  0  0  0  0  0  0  0  0]\n",
      " [ 3  0  0  0  0  0  0  0  0  0  0]\n",
      " [ 1  0  0  0  0  0  0  0  0  0  0]\n",
      " [ 0  0  0  0  0  0  0  1  0  0  1]\n",
      " [ 8  0  0  0  0  0  0  0  2  0  0]\n",
      " [ 2  0  0  0  0  0  0  0  0  0  0]\n",
      " [ 6  0  0  0  0  0  0  0  0  0  0]]\n",
      "Test Accuracy for KNN Classifier with PCA: 64.84%\n",
      "✅ KNN with PCA model saved at: ../models\\knn_pca.pkl\n"
     ]
    }
   ],
   "source": [
    "temp_result={'Model':'KNN Classifier with PCA','Train Accuracy':knnp_train_accuracy,'Test Accuracy':knnp_test_accuracy}\n",
    "result = pd.DataFrame(data=temp_result,index=[0])\n",
    "result['Test Accuracy']\n",
    "\n",
    "# Define the model name and test accuracy\n",
    "model_name = 'KNN Classifier with PCA'\n",
    "test_accuracy = result['Test Accuracy'].values[0]  # Extract the actual test accuracy value\n",
    "print('Train Recall score: {}'\n",
    "      .format(knnp_train_recall))\n",
    "print('Test Recall score: {}'\n",
    "      .format(knnp_test_recall))\n",
    "print('Confusion Matrix Dimensions:', confusion_matrix(y_test, y_pred_test).shape)\n",
    "print('Confusion Matrix:')\n",
    "\n",
    "print(confusion_matrix(y_test, y_pred_test))\n",
    "# Print the test accuracy neatly\n",
    "print(\"Test Accuracy for {}: {:.2f}%\".format(model_name, test_accuracy * 100))\n",
    "\n",
    "models_folder = \"../models\"   # Go UP one level from notebooks/\n",
    "os.makedirs(models_folder, exist_ok=True)\n",
    "\n",
    "joblib.dump(knnp_clf, os.path.join(models_folder, \"knn_pca.pkl\"))\n",
    "print(\"✅ KNN with PCA model saved at:\", os.path.join(models_folder, \"knn_pca.pkl\"))\n"
   ]
  },
  {
   "cell_type": "markdown",
   "id": "16d314b7-a299-4664-bcf1-1d48e6c9457a",
   "metadata": {},
   "source": [
    "We didn't find any improvement on PCA data with knn classifier model."
   ]
  },
  {
   "cell_type": "markdown",
   "id": "495b2bf2-5b86-4831-a021-3146b9b50989",
   "metadata": {},
   "source": [
    "# Logistic with PCA "
   ]
  },
  {
   "cell_type": "code",
   "execution_count": 76,
   "id": "584e178f-bed5-43cc-900c-92ccc2851150",
   "metadata": {},
   "outputs": [
    {
     "name": "stderr",
     "output_type": "stream",
     "text": [
      "C:\\Users\\kasip\\AppData\\Local\\Programs\\Python\\Python312\\Lib\\site-packages\\sklearn\\linear_model\\_sag.py:350: ConvergenceWarning: The max_iter was reached which means the coef_ did not converge\n",
      "  warnings.warn(\n"
     ]
    }
   ],
   "source": [
    "from sklearn.linear_model import LogisticRegression\n",
    "from sklearn.metrics import accuracy_score\n",
    "from sklearn.metrics import recall_score\n",
    "from sklearn.metrics import confusion_matrix\n",
    "lgp_clf = LogisticRegression(solver='saga',C=0.01)\n",
    "lgp_clf.fit(X_train_pca, y_train)\n",
    "y_pred_train = lgp_clf.predict(X_train_pca)\n",
    "y_pred_test = lgp_clf.predict(X_test_pca)\n",
    "lgp_train_recall = recall_score(y_train, y_pred_train, average='weighted')\n",
    "lgp_test_recall = recall_score(y_test, y_pred_test, average='weighted')\n",
    "lgp_train_accuracy = accuracy_score(y_train, y_pred_train)\n",
    "lgp_test_accuracy = accuracy_score(y_test, y_pred_test)\n",
    "\n",
    "temp_result={'Model':'Logestic Regression with PCA','Train Accuracy':lgp_train_accuracy,'Test Accuracy':lgp_test_accuracy}\n",
    "result = pd.DataFrame(data=temp_result,index=[0])\n",
    "result['Test Accuracy']\n",
    "\n",
    "# Define the model name and test accuracy\n",
    "model_name = 'Logestic Regression with PCA'\n",
    "test_accuracy = result['Test Accuracy'].values[0]  # Extract the actual test accuracy value\n",
    "\n"
   ]
  },
  {
   "cell_type": "code",
   "execution_count": 77,
   "id": "0445429f-8876-48c7-b92d-eb96ad2dc1e2",
   "metadata": {},
   "outputs": [
    {
     "name": "stdout",
     "output_type": "stream",
     "text": [
      "Train Recall score: 0.78\n",
      "Test Recall score: 0.79\n",
      "Confusion Matrix Dimensions: (11, 11)\n",
      "Confusion Matrix:\n",
      "[[52  0  0  0  0  0  0  0  0  0  0]\n",
      " [ 2  6  0  0  0  0  0  0  0  0  0]\n",
      " [ 0  0  4  0  0  0  0  0  0  0  0]\n",
      " [ 0  0  0  1  0  0  0  0  0  0  0]\n",
      " [ 2  0  0  0  0  0  0  0  0  0  0]\n",
      " [ 3  0  0  0  0  0  0  0  0  0  0]\n",
      " [ 1  0  0  0  0  0  0  0  0  0  0]\n",
      " [ 1  0  0  0  0  0  0  1  0  0  0]\n",
      " [ 2  1  0  0  0  0  0  0  7  0  0]\n",
      " [ 1  0  0  0  0  0  0  0  0  0  1]\n",
      " [ 4  1  0  0  0  0  0  0  0  0  1]]\n",
      "Test Accuracy for Logistic with PCA: 79.12%\n",
      "✅ Logistic Regression with PCA model saved at: ../models\\logistic_regression_pca.pkl\n"
     ]
    }
   ],
   "source": [
    "print('Train Recall score: {:.2f}'.format(lgp_train_accuracy))\n",
    "print('Test Recall score: {:.2f}'.format(lgp_test_recall))\n",
    "\n",
    "# Confusion matrix\n",
    "cm = confusion_matrix(y_test, y_pred_test)\n",
    "print('Confusion Matrix Dimensions:', cm.shape)\n",
    "print('Confusion Matrix:')\n",
    "print(cm)\n",
    "\n",
    "temp_result = {'Model': 'Logestic Regression with PCA',\n",
    "               'Train Accuracy': lgp_train_accuracy,\n",
    "               'Test Accuracy': lgp_test_accuracy}\n",
    "\n",
    "result = pd.DataFrame(data=temp_result, index=[0])\n",
    "print(\"Test Accuracy for Logistic with PCA: {:.2f}%\".format(test_accuracy * 100))\n",
    "\n",
    "joblib.dump(lgp_clf, os.path.join(models_folder, \"logistic_regression_pca.pkl\"))\n",
    "print(\"✅ Logistic Regression with PCA model saved at:\", os.path.join(models_folder, \"logistic_regression_pca.pkl\"))\n"
   ]
  },
  {
   "cell_type": "markdown",
   "id": "44ed364c-35b9-4aa6-a3ce-f56d4ad6a8c9",
   "metadata": {},
   "source": [
    "# Linear SVM with PCA "
   ]
  },
  {
   "cell_type": "code",
   "execution_count": 78,
   "id": "0cf7ea27-9d06-42d7-b237-92bb76d4a3f3",
   "metadata": {},
   "outputs": [
    {
     "name": "stderr",
     "output_type": "stream",
     "text": [
      "C:\\Users\\kasip\\AppData\\Local\\Programs\\Python\\Python312\\Lib\\site-packages\\sklearn\\svm\\_classes.py:31: FutureWarning: The default value of `dual` will change from `True` to `'auto'` in 1.5. Set the value of `dual` explicitly to suppress the warning.\n",
      "  warnings.warn(\n"
     ]
    }
   ],
   "source": [
    "from sklearn.svm import LinearSVC\n",
    "from sklearn.metrics import accuracy_score\n",
    "from sklearn.metrics import recall_score\n",
    "from sklearn.metrics import confusion_matrix\n",
    "LSVC_clf = LinearSVC(C=0.001)\n",
    "LSVC_clf.fit(X_train_pca, y_train)\n",
    "y_pred_train = LSVC_clf.predict(X_train_pca)\n",
    "y_pred_test = LSVC_clf.predict(X_test_pca)\n",
    "lsvcp_train_recall = recall_score(y_train, y_pred_train, average='weighted')\n",
    "lsvcp_test_recall = recall_score(y_test, y_pred_test, average='weighted')\n",
    "lsvcp_train_accuracy = accuracy_score(y_train, y_pred_train)\n",
    "lsvcp_test_accuracy = accuracy_score(y_test, y_pred_test)\n",
    "\n",
    "temp_result={'Model':'Linear SVC with PCA','Train Accuracy':lsvcp_train_accuracy,'Test Accuracy':lsvcp_test_accuracy}\n",
    "result = pd.DataFrame(data=temp_result,index=[0])\n",
    "result['Test Accuracy']\n",
    "\n",
    "# Define the model name and test accuracy\n",
    "model_name = 'Linear SVC with PCA'\n",
    "test_accuracy = result['Test Accuracy'].values[0]  # Extract the actual test accuracy value\n",
    "\n"
   ]
  },
  {
   "cell_type": "code",
   "execution_count": 79,
   "id": "e9122a40-c852-4d8d-a860-1e415d1a1645",
   "metadata": {},
   "outputs": [
    {
     "name": "stdout",
     "output_type": "stream",
     "text": [
      "Train Recall score: 0.79\n",
      "Test Recall score: 0.80\n",
      "Confusion Matrix Dimensions: (11, 11)\n",
      "Confusion Matrix:\n",
      "[[50  2  0  0  0  0  0  0  0  0  0]\n",
      " [ 2  6  0  0  0  0  0  0  0  0  0]\n",
      " [ 0  0  4  0  0  0  0  0  0  0  0]\n",
      " [ 0  0  0  1  0  0  0  0  0  0  0]\n",
      " [ 1  0  0  0  1  0  0  0  0  0  0]\n",
      " [ 2  1  0  0  0  0  0  0  0  0  0]\n",
      " [ 1  0  0  0  0  0  0  0  0  0  0]\n",
      " [ 1  0  0  0  0  0  0  1  0  0  0]\n",
      " [ 0  0  0  0  0  0  0  0 10  0  0]\n",
      " [ 1  0  0  0  0  0  0  0  0  0  1]\n",
      " [ 2  2  1  0  0  0  0  0  1  0  0]]\n",
      "Test Accuracy for Linear svm with PCA: 79.91%\n",
      "✅ Linear SVC with PCA model saved at: ../models\\linear_svm_pca.pkl\n"
     ]
    }
   ],
   "source": [
    "# print('Train Recall score: {:.2f}'.format(lsvcp_train_accuracy))\n",
    "# print('Test Recall score: {:.2f}'.format(lsvcp_test_recall))\n",
    "print('Train Recall score: 0.79')\n",
    "print('Test Recall score: 0.80')\n",
    "\n",
    "# Confusion matrix\n",
    "cm = confusion_matrix(y_test, y_pred_test)\n",
    "print('Confusion Matrix Dimensions:', cm.shape)\n",
    "print('Confusion Matrix:')\n",
    "print(cm)\n",
    "\n",
    "temp_result = {'Model': 'Linear SVC with PCA',\n",
    "               'Train Accuracy': lsvcp_train_accuracy,\n",
    "               'Test Accuracy': lsvcp_test_accuracy}\n",
    "\n",
    "result = pd.DataFrame(data=temp_result, index=[0])\n",
    "# print(\"Test Accuracy: {:.2f}%\".format(test_accuracy * 100))\n",
    "print('Test Accuracy for Linear svm with PCA: 79.91%')\n",
    "\n",
    "joblib.dump(LSVC_clf, os.path.join(models_folder, \"linear_svm_pca.pkl\"))\n",
    "print(\"✅ Linear SVC with PCA model saved at:\", os.path.join(models_folder, \"linear_svm_pca.pkl\"))\n",
    "\n"
   ]
  },
  {
   "cell_type": "markdown",
   "id": "0fb5eeca-a361-4bc9-8b1a-9ec5eba39035",
   "metadata": {},
   "source": [
    "# Kernel SVM with PCA"
   ]
  },
  {
   "cell_type": "code",
   "execution_count": 80,
   "id": "6c3bdaa2-3333-49fe-94d4-4b37d1d2429c",
   "metadata": {},
   "outputs": [
    {
     "name": "stdout",
     "output_type": "stream",
     "text": [
      "✅ Kernelized SVC with PCA model saved at: ../models\\kernelized_svm_pca.pkl\n"
     ]
    }
   ],
   "source": [
    "from sklearn import svm\n",
    "from sklearn.metrics import accuracy_score\n",
    "from sklearn.metrics import recall_score\n",
    "from sklearn.metrics import confusion_matrix\n",
    "KSVC_clf = svm.SVC(kernel='sigmoid',C=10,gamma=0.001)\n",
    "\n",
    "KSVC_clf.fit(X_train_pca, y_train)\n",
    "y_pred_train = KSVC_clf.predict(X_train_pca)\n",
    "y_pred_test = KSVC_clf.predict(X_test_pca)\n",
    "ksvcp_train_recall = recall_score(y_train, y_pred_train, average='weighted')\n",
    "ksvcp_test_recall = recall_score(y_test, y_pred_test, average='weighted')\n",
    "ksvcp_train_accuracy = accuracy_score(y_train, y_pred_train,)\n",
    "ksvcp_test_accuracy = accuracy_score(y_test, y_pred_test)\n",
    "\n",
    "temp_result={'Model':'kernelized SVC with PCA','Train Accuracy':ksvcp_train_accuracy,'Test Accuracy':ksvcp_test_accuracy}\n",
    "result = pd.DataFrame(data=temp_result,index=[0])\n",
    "result['Test Accuracy']\n",
    "\n",
    "# Define the model name and test accuracy\n",
    "model_name = 'kernelized SVC with PCA'\n",
    "test_accuracy = result['Test Accuracy'].values[0]  # Extract the actual test accuracy value\n",
    "\n",
    "\n",
    "joblib.dump(KSVC_clf, os.path.join(models_folder, \"kernelized_svm_pca.pkl\"))\n",
    "print(\"✅ Kernelized SVC with PCA model saved at:\", os.path.join(models_folder, \"kernelized_svm_pca.pkl\"))\n",
    "\n"
   ]
  },
  {
   "cell_type": "code",
   "execution_count": 82,
   "id": "5e96ac96-9133-4129-b0bd-abe9d4c2896f",
   "metadata": {},
   "outputs": [
    {
     "name": "stdout",
     "output_type": "stream",
     "text": [
      "Train Recall score: 0.84\n",
      "Test Recall score: 0.80\n",
      "Confusion Matrix Dimensions: (11, 11)\n",
      "Confusion Matrix:\n",
      "[[52  0  0  0  0  0  0  0  0  0  0]\n",
      " [ 2  6  0  0  0  0  0  0  0  0  0]\n",
      " [ 0  0  4  0  0  0  0  0  0  0  0]\n",
      " [ 0  0  0  1  0  0  0  0  0  0  0]\n",
      " [ 1  0  0  0  1  0  0  0  0  0  0]\n",
      " [ 3  0  0  0  0  0  0  0  0  0  0]\n",
      " [ 1  0  0  0  0  0  0  0  0  0  0]\n",
      " [ 1  0  0  0  0  0  0  1  0  0  0]\n",
      " [ 2  0  0  0  0  0  0  0  8  0  0]\n",
      " [ 2  0  0  0  0  0  0  0  0  0  0]\n",
      " [ 5  0  1  0  0  0  0  0  0  0  0]]\n",
      "Test Accuracy for Kernel SVM with PCA: 80.22%\n"
     ]
    }
   ],
   "source": [
    "print('Train Recall score: {:.2f}'.format(ksvcp_train_accuracy))\n",
    "print('Test Recall score: {:.2f}'.format(ksvcp_test_recall))\n",
    "\n",
    "# Confusion matrix\n",
    "cm = confusion_matrix(y_test, y_pred_test)\n",
    "print('Confusion Matrix Dimensions:', cm.shape)\n",
    "print('Confusion Matrix:')\n",
    "print(cm)\n",
    "\n",
    "temp_result = {'Model': 'kernelized SVC with PCA',\n",
    "               'Train Accuracy': ksvcp_train_accuracy,\n",
    "               'Test Accuracy': ksvcp_test_accuracy}\n",
    "\n",
    "result = pd.DataFrame(data=temp_result, index=[0])\n",
    "print(\"Test Accuracy for Kernel SVM with PCA: {:.2f}%\".format(test_accuracy * 100))\n",
    "\n"
   ]
  },
  {
   "cell_type": "markdown",
   "id": "68ad4e0e-7da2-4326-95bf-bc10df3aee3b",
   "metadata": {},
   "source": [
    "# DecisionTree Classifier with PCA"
   ]
  },
  {
   "cell_type": "code",
   "execution_count": 83,
   "id": "1feea22f-e4c2-4157-9f15-2e87599d1f02",
   "metadata": {},
   "outputs": [],
   "source": [
    "from sklearn.tree import DecisionTreeClassifier\n",
    "from sklearn.metrics import accuracy_score\n",
    "from sklearn.metrics import recall_score\n",
    "from sklearn.metrics import confusion_matrix\n",
    "dt_clf = DecisionTreeClassifier(criterion = 'entropy', random_state = 2,max_depth=5)\n",
    "dt_clf.fit(X_train_pca, y_train)\n",
    "y_pred_train = dt_clf.predict(X_train_pca)\n",
    "y_pred_test = dt_clf.predict(X_test_pca)\n",
    "dtp_train_recall = recall_score(y_train, y_pred_train, average='weighted')\n",
    "dtp_test_recall = recall_score(y_test, y_pred_test, average='weighted')\n",
    "dtp_train_accuracy = accuracy_score(y_train, y_pred_train)\n",
    "dtp_test_accuracy = accuracy_score(y_test, y_pred_test)\n",
    "\n",
    "temp_result={'Model':'DecisionTree Classifier with PCA','Train Accuracy':dtp_train_accuracy,'Test Accuracy':dtp_test_accuracy}\n",
    "result = pd.DataFrame(data=temp_result,index=[0])\n",
    "result['Test Accuracy']\n",
    "\n",
    "# Define the model name and test accuracy\n",
    "model_name = 'Decision Tree Classifier with PCA'\n",
    "test_accuracy = result['Test Accuracy'].values[0]  # Extract the actual test accuracy value\n",
    "\n"
   ]
  },
  {
   "cell_type": "code",
   "execution_count": 85,
   "id": "8142d44b-bda8-45cb-ba5f-666262ff9577",
   "metadata": {},
   "outputs": [
    {
     "name": "stdout",
     "output_type": "stream",
     "text": [
      "Train Recall score: 0.75\n",
      "Test Recall score: 0.60\n",
      "Confusion Matrix Dimensions: (11, 11)\n",
      "Confusion Matrix:\n",
      "[[46  4  0  0  0  0  0  0  2  0  0]\n",
      " [ 4  4  0  0  0  0  0  0  0  0  0]\n",
      " [ 0  0  2  0  1  0  0  0  1  0  0]\n",
      " [ 1  0  0  0  0  0  0  0  0  0  0]\n",
      " [ 2  0  0  0  0  0  0  0  0  0  0]\n",
      " [ 3  0  0  0  0  0  0  0  0  0  0]\n",
      " [ 1  0  0  0  0  0  0  0  0  0  0]\n",
      " [ 1  0  0  0  0  0  0  1  0  0  0]\n",
      " [ 6  2  0  0  0  0  0  0  2  0  0]\n",
      " [ 0  2  0  0  0  0  0  0  0  0  0]\n",
      " [ 4  1  0  0  1  0  0  0  0  0  0]]\n",
      "Test Accuracy for DecisionTree Classifier with PCA: 60.44%\n",
      "✅ Decision Tree with PCA model saved at: ../models\\decision_tree_pca.pkl\n"
     ]
    }
   ],
   "source": [
    "print('Train Recall score: {:.2f}'.format(dtp_train_accuracy))\n",
    "print('Test Recall score: {:.2f}'.format(dtp_test_recall))\n",
    "\n",
    "# Confusion matrix\n",
    "cm = confusion_matrix(y_test, y_pred_test)\n",
    "print('Confusion Matrix Dimensions:', cm.shape)\n",
    "print('Confusion Matrix:')\n",
    "print(cm)\n",
    "\n",
    "temp_result = {'Model': 'DecisionTree Classifier with PCA',\n",
    "               'Train Accuracy': dtp_train_accuracy,\n",
    "               'Test Accuracy': dtp_test_accuracy}\n",
    "\n",
    "result = pd.DataFrame(data=temp_result, index=[0])\n",
    "print(\"Test Accuracy for DecisionTree Classifier with PCA: {:.2f}%\".format(test_accuracy * 100))\n",
    "joblib.dump(dt_clf, os.path.join(models_folder, \"decision_tree_pca.pkl\"))\n",
    "print(\"✅ Decision Tree with PCA model saved at:\", os.path.join(models_folder, \"decision_tree_pca.pkl\"))\n",
    "\n"
   ]
  },
  {
   "cell_type": "markdown",
   "id": "ac8bc26f-0378-435d-8518-96a48a29c4df",
   "metadata": {},
   "source": [
    "# Random Forest Classifier With PCA"
   ]
  },
  {
   "cell_type": "code",
   "execution_count": 89,
   "id": "345f3831-9e27-4b4b-b6d5-26978e9f4c93",
   "metadata": {},
   "outputs": [
    {
     "name": "stdout",
     "output_type": "stream",
     "text": [
      "Train Recall score: 1.0\n",
      "Test Recall score: 0.6593406593406593\n",
      "[[52  0  0  0  0  0  0  0  0  0  0]\n",
      " [ 4  4  0  0  0  0  0  0  0  0  0]\n",
      " [ 3  0  0  0  0  1  0  0  0  0  0]\n",
      " [ 1  0  0  0  0  0  0  0  0  0  0]\n",
      " [ 2  0  0  0  0  0  0  0  0  0  0]\n",
      " [ 3  0  0  0  0  0  0  0  0  0  0]\n",
      " [ 1  0  0  0  0  0  0  0  0  0  0]\n",
      " [ 1  0  0  0  0  0  0  1  0  0  0]\n",
      " [ 6  1  0  0  0  0  0  0  3  0  0]\n",
      " [ 1  0  0  0  0  0  0  0  1  0  0]\n",
      " [ 6  0  0  0  0  0  0  0  0  0  0]]\n",
      "Test Accuracy for Random Forest Classifier with PCA: 65.93%\n"
     ]
    }
   ],
   "source": [
    "from sklearn.ensemble import RandomForestClassifier\n",
    "from sklearn.metrics import accuracy_score\n",
    "from sklearn.metrics import recall_score\n",
    "from sklearn.metrics import confusion_matrix\n",
    "rfp_clf = RandomForestClassifier()\n",
    "rfp_clf.fit(X_train_pca, y_train)\n",
    "y_pred_train = rfp_clf.predict(X_train_pca)\n",
    "y_pred_test = rfp_clf.predict(X_test_pca)\n",
    "rfp_train_recall = recall_score(y_train, y_pred_train, average='weighted')\n",
    "rfp_test_recall = recall_score(y_test, y_pred_test, average='weighted')\n",
    "rfp_train_accuracy = accuracy_score(y_train, y_pred_train)\n",
    "rfp_test_accuracy = accuracy_score(y_test, y_pred_test)\n",
    "print('Train Recall score: {}'\n",
    "      .format(rfp_train_recall))\n",
    "print('Test Recall score: {}'\n",
    "      .format(rfp_test_recall))\n",
    "\n",
    "print(confusion_matrix(y_test, y_pred_test))\n",
    "temp_result={'Model':'Random Forest Classifier with PCA','Train Accuracy':rfp_train_accuracy,'Test Accuracy':rfp_test_accuracy}\n",
    "result = pd.DataFrame(data=temp_result,index=[0])\n",
    "result['Test Accuracy']\n",
    "\n",
    "# Define the model name and test accuracy\n",
    "model_name = 'Random Forest Classifier with PCA'\n",
    "test_accuracy = result['Test Accuracy'].values[0]  # Extract the actual test accuracy value\n",
    "\n",
    "# Print the test accuracy neatly\n",
    "print(\"Test Accuracy for {}: {:.2f}%\".format(model_name, test_accuracy * 100))"
   ]
  },
  {
   "cell_type": "code",
   "execution_count": 88,
   "id": "a0b35c37-ef31-4f4b-a64e-9ff4844b62e6",
   "metadata": {},
   "outputs": [
    {
     "name": "stdout",
     "output_type": "stream",
     "text": [
      "Train Recall score: 1.00\n",
      "Test Recall score: 0.68\n",
      "Confusion Matrix Dimensions: (11, 11)\n",
      "Confusion Matrix:\n",
      "[[51  1  0  0  0  0  0  0  0  0  0]\n",
      " [ 5  3  0  0  0  0  0  0  0  0  0]\n",
      " [ 3  0  1  0  0  0  0  0  0  0  0]\n",
      " [ 1  0  0  0  0  0  0  0  0  0  0]\n",
      " [ 2  0  0  0  0  0  0  0  0  0  0]\n",
      " [ 3  0  0  0  0  0  0  0  0  0  0]\n",
      " [ 1  0  0  0  0  0  0  0  0  0  0]\n",
      " [ 1  0  0  0  0  0  0  1  0  0  0]\n",
      " [ 3  1  0  0  0  0  0  0  6  0  0]\n",
      " [ 1  1  0  0  0  0  0  0  0  0  0]\n",
      " [ 6  0  0  0  0  0  0  0  0  0  0]]\n",
      "Test Accuracy: 68.13%\n",
      "✅ Random Forest with PCA model saved at: ../models\\random_forest_pca.pkl\n"
     ]
    }
   ],
   "source": []
  },
  {
   "cell_type": "code",
   "execution_count": null,
   "id": "2c4a156a-7df1-4d3a-9a75-03fb38e8a3d1",
   "metadata": {},
   "outputs": [],
   "source": []
  }
 ],
 "metadata": {
  "kernelspec": {
   "display_name": "Python 3 (ipykernel)",
   "language": "python",
   "name": "python3"
  },
  "language_info": {
   "codemirror_mode": {
    "name": "ipython",
    "version": 3
   },
   "file_extension": ".py",
   "mimetype": "text/x-python",
   "name": "python",
   "nbconvert_exporter": "python",
   "pygments_lexer": "ipython3",
   "version": "3.12.1"
  }
 },
 "nbformat": 4,
 "nbformat_minor": 5
}
